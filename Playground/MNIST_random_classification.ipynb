{
  "nbformat": 4,
  "nbformat_minor": 0,
  "metadata": {
    "colab": {
      "name": "MNIST random classification.ipynb",
      "provenance": [],
      "collapsed_sections": [],
      "authorship_tag": "ABX9TyPvE4KakFQpyb3q7wouBUcd",
      "include_colab_link": true
    },
    "kernelspec": {
      "name": "python3",
      "display_name": "Python 3"
    },
    "accelerator": "GPU"
  },
  "cells": [
    {
      "cell_type": "markdown",
      "metadata": {
        "id": "view-in-github",
        "colab_type": "text"
      },
      "source": [
        "<a href=\"https://colab.research.google.com/github/Black3rror/AI/blob/master/MNIST_random_classification.ipynb\" target=\"_parent\"><img src=\"https://colab.research.google.com/assets/colab-badge.svg\" alt=\"Open In Colab\"/></a>"
      ]
    },
    {
      "cell_type": "markdown",
      "metadata": {
        "id": "TWFf2v0PRE0B",
        "colab_type": "text"
      },
      "source": [
        "# Goal\n",
        "\n",
        "Label pictures randomely, then compare the training time of the model training on random labels versus a model training on the true labels.\n",
        "The result shows that the model with true labels learns much faster which means that the model can learn the concepts."
      ]
    },
    {
      "cell_type": "markdown",
      "metadata": {
        "id": "L5PD0zl0RFKz",
        "colab_type": "text"
      },
      "source": [
        "# Import stuff"
      ]
    },
    {
      "cell_type": "code",
      "metadata": {
        "id": "2iOv8AVrQ2Mz",
        "colab_type": "code",
        "colab": {}
      },
      "source": [
        "import numpy as np    # tf uses np so probabily we use np in our code\n",
        "import tensorflow as tf\n",
        "from tensorflow import keras\n",
        "\n",
        "from tensorflow.keras.models import Sequential\n",
        "from tensorflow.keras.layers import Dense, Dropout, Flatten, Conv2D, MaxPooling2D, Activation\n",
        "\n",
        "import matplotlib.pyplot as plt   # if u want to show imgs by pyplot\n",
        "\n",
        "from tensorflow.keras.callbacks import TensorBoard\n",
        "import datetime   # to organize TensorBoard files\n",
        "\n",
        "from keras.utils import to_categorical    # to change a number to one-hot key"
      ],
      "execution_count": null,
      "outputs": []
    },
    {
      "cell_type": "code",
      "metadata": {
        "id": "esEFFbOoSLNn",
        "colab_type": "code",
        "colab": {}
      },
      "source": [
        "%load_ext tensorboard\n",
        "!rm -rf ./logs/   # Clear any logs from previous runs"
      ],
      "execution_count": null,
      "outputs": []
    },
    {
      "cell_type": "markdown",
      "metadata": {
        "id": "6d388hJ2LoE2",
        "colab_type": "text"
      },
      "source": [
        "# Initialization"
      ]
    },
    {
      "cell_type": "code",
      "metadata": {
        "id": "2bBRbrQPLsum",
        "colab_type": "code",
        "colab": {}
      },
      "source": [
        "#assert len(tf.config.list_physical_devices('GPU')) > 0"
      ],
      "execution_count": null,
      "outputs": []
    },
    {
      "cell_type": "code",
      "metadata": {
        "id": "Exo-RHr6L0sm",
        "colab_type": "code",
        "colab": {}
      },
      "source": [
        "(trainX_MNIST, trainy_MNIST), _ = keras.datasets.mnist.load_data()\n",
        "\n",
        "# one-hot\n",
        "trainy_hot = to_categorical(trainy_MNIST)\n",
        "\n",
        "trainX = trainX_MNIST[:100]\n",
        "trainy = trainy_hot[:100]\n",
        "\n",
        "# image should be in shape of (28, 28, 1) not (28, 28)\n",
        "trainX = np.expand_dims(trainX, -1)\n",
        "trainy_shuffled = trainy.copy()\n",
        "np.random.shuffle(trainy_shuffled)\n",
        "\n",
        "# trainX has first 100 images of MNIST\n",
        "# trainy has the true labels of trainX\n",
        "# trainy_shuffled is the shuffled version of trainy\n",
        "\n",
        "# normalize\n",
        "trainX = trainX.astype(\"float32\")/255"
      ],
      "execution_count": null,
      "outputs": []
    },
    {
      "cell_type": "markdown",
      "metadata": {
        "id": "-P1x_7LEYtX7",
        "colab_type": "text"
      },
      "source": [
        "# Concept model"
      ]
    },
    {
      "cell_type": "markdown",
      "metadata": {
        "id": "LpLj2kR5Tss4",
        "colab_type": "text"
      },
      "source": [
        "## Build the model"
      ]
    },
    {
      "cell_type": "code",
      "metadata": {
        "id": "zO59Dq7IUTxt",
        "colab_type": "code",
        "colab": {}
      },
      "source": [
        "def build_model(conv1_units = 32, conv2_units = 64, dropout_rate = 0.5):\n",
        "  model = Sequential()\n",
        "  model.add(Conv2D(conv1_units, (3,3), activation='relu', input_shape = trainX.shape[1:]))\n",
        "  model.add(MaxPooling2D((2, 2)))\n",
        "  model.add(Conv2D(conv2_units, (3,3), activation='relu'))\n",
        "  model.add(MaxPooling2D((2, 2)))\n",
        "  model.add(Flatten())\n",
        "  model.add(Dropout(dropout_rate))\n",
        "  model.add(Dense(10, activation='softmax'))\n",
        "  return model"
      ],
      "execution_count": null,
      "outputs": []
    },
    {
      "cell_type": "code",
      "metadata": {
        "id": "1gT0R9hDYAUP",
        "colab_type": "code",
        "colab": {}
      },
      "source": [
        "model_concept = build_model()\n",
        "#model_concept.summary()"
      ],
      "execution_count": null,
      "outputs": []
    },
    {
      "cell_type": "markdown",
      "metadata": {
        "id": "Wu2cY-A2t8H7",
        "colab_type": "text"
      },
      "source": [
        "## Compile and fit"
      ]
    },
    {
      "cell_type": "code",
      "metadata": {
        "id": "QcaV3Qw_t-8w",
        "colab_type": "code",
        "colab": {}
      },
      "source": [
        "model_concept.compile(optimizer='adam', loss='categorical_crossentropy', metrics=['categorical_accuracy'])"
      ],
      "execution_count": null,
      "outputs": []
    },
    {
      "cell_type": "code",
      "metadata": {
        "id": "_hMKiW-lvpCA",
        "colab_type": "code",
        "colab": {
          "base_uri": "https://localhost:8080/",
          "height": 1000
        },
        "outputId": "e863cb05-4482-4c59-aa10-4dba16a3016b"
      },
      "source": [
        "log_dir_concept = \"logs/fit/\" + datetime.datetime.now().strftime(\"%Y%m%d-%H%M%S\") + \"-concept\"\n",
        "tensorboard_callback_concept = TensorBoard(log_dir=log_dir_concept, histogram_freq=1)\n",
        "\n",
        "model_concept.fit(trainX, trainy, epochs=100, callbacks=[tensorboard_callback_concept])"
      ],
      "execution_count": null,
      "outputs": [
        {
          "output_type": "stream",
          "text": [
            "Epoch 1/100\n",
            "1/4 [======>.......................] - ETA: 0s - loss: 2.3223 - categorical_accuracy: 0.0625WARNING:tensorflow:Callbacks method `on_train_batch_end` is slow compared to the batch time (batch time: 0.0062s vs `on_train_batch_end` time: 0.0282s). Check your callbacks.\n",
            "4/4 [==============================] - 0s 13ms/step - loss: 2.2990 - categorical_accuracy: 0.1000\n",
            "Epoch 2/100\n",
            "4/4 [==============================] - 0s 4ms/step - loss: 2.1718 - categorical_accuracy: 0.3500\n",
            "Epoch 3/100\n",
            "4/4 [==============================] - 0s 4ms/step - loss: 2.1033 - categorical_accuracy: 0.3300\n",
            "Epoch 4/100\n",
            "4/4 [==============================] - 0s 4ms/step - loss: 2.0422 - categorical_accuracy: 0.3700\n",
            "Epoch 5/100\n",
            "4/4 [==============================] - 0s 4ms/step - loss: 1.9054 - categorical_accuracy: 0.4100\n",
            "Epoch 6/100\n",
            "4/4 [==============================] - 0s 4ms/step - loss: 1.7805 - categorical_accuracy: 0.5500\n",
            "Epoch 7/100\n",
            "4/4 [==============================] - 0s 4ms/step - loss: 1.6649 - categorical_accuracy: 0.5900\n",
            "Epoch 8/100\n",
            "4/4 [==============================] - 0s 4ms/step - loss: 1.5013 - categorical_accuracy: 0.6400\n",
            "Epoch 9/100\n",
            "4/4 [==============================] - 0s 4ms/step - loss: 1.3074 - categorical_accuracy: 0.7500\n",
            "Epoch 10/100\n",
            "4/4 [==============================] - 0s 5ms/step - loss: 1.1512 - categorical_accuracy: 0.8100\n",
            "Epoch 11/100\n",
            "4/4 [==============================] - 0s 5ms/step - loss: 0.9243 - categorical_accuracy: 0.8500\n",
            "Epoch 12/100\n",
            "4/4 [==============================] - 0s 5ms/step - loss: 0.8135 - categorical_accuracy: 0.8300\n",
            "Epoch 13/100\n",
            "4/4 [==============================] - 0s 5ms/step - loss: 0.7293 - categorical_accuracy: 0.8300\n",
            "Epoch 14/100\n",
            "4/4 [==============================] - 0s 4ms/step - loss: 0.6153 - categorical_accuracy: 0.8300\n",
            "Epoch 15/100\n",
            "4/4 [==============================] - 0s 4ms/step - loss: 0.5480 - categorical_accuracy: 0.8400\n",
            "Epoch 16/100\n",
            "4/4 [==============================] - 0s 5ms/step - loss: 0.5268 - categorical_accuracy: 0.8200\n",
            "Epoch 17/100\n",
            "4/4 [==============================] - 0s 5ms/step - loss: 0.3792 - categorical_accuracy: 0.9000\n",
            "Epoch 18/100\n",
            "4/4 [==============================] - 0s 4ms/step - loss: 0.3469 - categorical_accuracy: 0.9100\n",
            "Epoch 19/100\n",
            "4/4 [==============================] - 0s 6ms/step - loss: 0.3549 - categorical_accuracy: 0.9000\n",
            "Epoch 20/100\n",
            "4/4 [==============================] - 0s 4ms/step - loss: 0.3625 - categorical_accuracy: 0.8900\n",
            "Epoch 21/100\n",
            "4/4 [==============================] - 0s 4ms/step - loss: 0.2633 - categorical_accuracy: 0.9300\n",
            "Epoch 22/100\n",
            "4/4 [==============================] - 0s 5ms/step - loss: 0.2522 - categorical_accuracy: 0.9400\n",
            "Epoch 23/100\n",
            "4/4 [==============================] - 0s 4ms/step - loss: 0.2435 - categorical_accuracy: 0.9400\n",
            "Epoch 24/100\n",
            "4/4 [==============================] - 0s 4ms/step - loss: 0.1919 - categorical_accuracy: 0.9400\n",
            "Epoch 25/100\n",
            "4/4 [==============================] - 0s 4ms/step - loss: 0.2064 - categorical_accuracy: 0.9600\n",
            "Epoch 26/100\n",
            "4/4 [==============================] - 0s 4ms/step - loss: 0.1777 - categorical_accuracy: 0.9600\n",
            "Epoch 27/100\n",
            "4/4 [==============================] - 0s 4ms/step - loss: 0.1485 - categorical_accuracy: 0.9800\n",
            "Epoch 28/100\n",
            "4/4 [==============================] - 0s 4ms/step - loss: 0.1525 - categorical_accuracy: 0.9600\n",
            "Epoch 29/100\n",
            "4/4 [==============================] - 0s 4ms/step - loss: 0.1731 - categorical_accuracy: 0.9500\n",
            "Epoch 30/100\n",
            "4/4 [==============================] - 0s 4ms/step - loss: 0.1004 - categorical_accuracy: 0.9800\n",
            "Epoch 31/100\n",
            "4/4 [==============================] - 0s 5ms/step - loss: 0.1210 - categorical_accuracy: 0.9600\n",
            "Epoch 32/100\n",
            "4/4 [==============================] - 0s 4ms/step - loss: 0.0938 - categorical_accuracy: 0.9800\n",
            "Epoch 33/100\n",
            "4/4 [==============================] - 0s 4ms/step - loss: 0.1455 - categorical_accuracy: 0.9600\n",
            "Epoch 34/100\n",
            "4/4 [==============================] - 0s 4ms/step - loss: 0.1284 - categorical_accuracy: 0.9800\n",
            "Epoch 35/100\n",
            "4/4 [==============================] - 0s 6ms/step - loss: 0.1236 - categorical_accuracy: 0.9600\n",
            "Epoch 36/100\n",
            "4/4 [==============================] - 0s 4ms/step - loss: 0.1345 - categorical_accuracy: 0.9700\n",
            "Epoch 37/100\n",
            "4/4 [==============================] - 0s 4ms/step - loss: 0.0891 - categorical_accuracy: 0.9700\n",
            "Epoch 38/100\n",
            "4/4 [==============================] - 0s 4ms/step - loss: 0.0854 - categorical_accuracy: 0.9900\n",
            "Epoch 39/100\n",
            "4/4 [==============================] - 0s 4ms/step - loss: 0.0617 - categorical_accuracy: 1.0000\n",
            "Epoch 40/100\n",
            "4/4 [==============================] - 0s 4ms/step - loss: 0.0562 - categorical_accuracy: 0.9900\n",
            "Epoch 41/100\n",
            "4/4 [==============================] - 0s 4ms/step - loss: 0.0413 - categorical_accuracy: 1.0000\n",
            "Epoch 42/100\n",
            "4/4 [==============================] - 0s 4ms/step - loss: 0.0434 - categorical_accuracy: 1.0000\n",
            "Epoch 43/100\n",
            "4/4 [==============================] - 0s 4ms/step - loss: 0.0526 - categorical_accuracy: 0.9900\n",
            "Epoch 44/100\n",
            "4/4 [==============================] - 0s 4ms/step - loss: 0.0391 - categorical_accuracy: 1.0000\n",
            "Epoch 45/100\n",
            "4/4 [==============================] - 0s 4ms/step - loss: 0.0391 - categorical_accuracy: 1.0000\n",
            "Epoch 46/100\n",
            "4/4 [==============================] - 0s 4ms/step - loss: 0.0759 - categorical_accuracy: 0.9800\n",
            "Epoch 47/100\n",
            "4/4 [==============================] - 0s 4ms/step - loss: 0.0500 - categorical_accuracy: 0.9900\n",
            "Epoch 48/100\n",
            "4/4 [==============================] - 0s 4ms/step - loss: 0.0611 - categorical_accuracy: 0.9800\n",
            "Epoch 49/100\n",
            "4/4 [==============================] - 0s 4ms/step - loss: 0.0322 - categorical_accuracy: 1.0000\n",
            "Epoch 50/100\n",
            "4/4 [==============================] - 0s 4ms/step - loss: 0.0348 - categorical_accuracy: 1.0000\n",
            "Epoch 51/100\n",
            "4/4 [==============================] - 0s 4ms/step - loss: 0.0193 - categorical_accuracy: 1.0000\n",
            "Epoch 52/100\n",
            "4/4 [==============================] - 0s 5ms/step - loss: 0.0256 - categorical_accuracy: 1.0000\n",
            "Epoch 53/100\n",
            "4/4 [==============================] - 0s 5ms/step - loss: 0.0444 - categorical_accuracy: 0.9900\n",
            "Epoch 54/100\n",
            "4/4 [==============================] - 0s 6ms/step - loss: 0.0287 - categorical_accuracy: 0.9900\n",
            "Epoch 55/100\n",
            "4/4 [==============================] - 0s 5ms/step - loss: 0.0389 - categorical_accuracy: 0.9900\n",
            "Epoch 56/100\n",
            "4/4 [==============================] - 0s 5ms/step - loss: 0.0373 - categorical_accuracy: 0.9900\n",
            "Epoch 57/100\n",
            "4/4 [==============================] - 0s 5ms/step - loss: 0.0200 - categorical_accuracy: 1.0000\n",
            "Epoch 58/100\n",
            "4/4 [==============================] - 0s 5ms/step - loss: 0.0235 - categorical_accuracy: 1.0000\n",
            "Epoch 59/100\n",
            "4/4 [==============================] - 0s 5ms/step - loss: 0.0322 - categorical_accuracy: 0.9900\n",
            "Epoch 60/100\n",
            "4/4 [==============================] - 0s 7ms/step - loss: 0.0254 - categorical_accuracy: 1.0000\n",
            "Epoch 61/100\n",
            "4/4 [==============================] - 0s 5ms/step - loss: 0.0280 - categorical_accuracy: 0.9900\n",
            "Epoch 62/100\n",
            "4/4 [==============================] - 0s 5ms/step - loss: 0.0231 - categorical_accuracy: 1.0000\n",
            "Epoch 63/100\n",
            "4/4 [==============================] - 0s 5ms/step - loss: 0.0166 - categorical_accuracy: 1.0000\n",
            "Epoch 64/100\n",
            "4/4 [==============================] - 0s 5ms/step - loss: 0.0128 - categorical_accuracy: 1.0000\n",
            "Epoch 65/100\n",
            "4/4 [==============================] - 0s 5ms/step - loss: 0.0199 - categorical_accuracy: 1.0000\n",
            "Epoch 66/100\n",
            "4/4 [==============================] - 0s 5ms/step - loss: 0.0293 - categorical_accuracy: 0.9800\n",
            "Epoch 67/100\n",
            "4/4 [==============================] - 0s 5ms/step - loss: 0.0265 - categorical_accuracy: 0.9900\n",
            "Epoch 68/100\n",
            "4/4 [==============================] - 0s 5ms/step - loss: 0.0254 - categorical_accuracy: 1.0000\n",
            "Epoch 69/100\n",
            "4/4 [==============================] - 0s 5ms/step - loss: 0.0224 - categorical_accuracy: 1.0000\n",
            "Epoch 70/100\n",
            "4/4 [==============================] - 0s 5ms/step - loss: 0.0296 - categorical_accuracy: 0.9900\n",
            "Epoch 71/100\n",
            "4/4 [==============================] - 0s 5ms/step - loss: 0.0252 - categorical_accuracy: 0.9900\n",
            "Epoch 72/100\n",
            "4/4 [==============================] - 0s 4ms/step - loss: 0.0169 - categorical_accuracy: 1.0000\n",
            "Epoch 73/100\n",
            "4/4 [==============================] - 0s 4ms/step - loss: 0.0335 - categorical_accuracy: 0.9900\n",
            "Epoch 74/100\n",
            "4/4 [==============================] - 0s 6ms/step - loss: 0.0231 - categorical_accuracy: 1.0000\n",
            "Epoch 75/100\n",
            "4/4 [==============================] - 0s 4ms/step - loss: 0.0126 - categorical_accuracy: 1.0000\n",
            "Epoch 76/100\n",
            "4/4 [==============================] - 0s 4ms/step - loss: 0.0063 - categorical_accuracy: 1.0000\n",
            "Epoch 77/100\n",
            "4/4 [==============================] - 0s 4ms/step - loss: 0.0222 - categorical_accuracy: 0.9900\n",
            "Epoch 78/100\n",
            "4/4 [==============================] - 0s 4ms/step - loss: 0.0196 - categorical_accuracy: 0.9900\n",
            "Epoch 79/100\n",
            "4/4 [==============================] - 0s 4ms/step - loss: 0.0169 - categorical_accuracy: 1.0000\n",
            "Epoch 80/100\n",
            "4/4 [==============================] - 0s 5ms/step - loss: 0.0064 - categorical_accuracy: 1.0000\n",
            "Epoch 81/100\n",
            "4/4 [==============================] - 0s 5ms/step - loss: 0.0160 - categorical_accuracy: 0.9900\n",
            "Epoch 82/100\n",
            "4/4 [==============================] - 0s 4ms/step - loss: 0.0108 - categorical_accuracy: 1.0000\n",
            "Epoch 83/100\n",
            "4/4 [==============================] - 0s 4ms/step - loss: 0.0060 - categorical_accuracy: 1.0000\n",
            "Epoch 84/100\n",
            "4/4 [==============================] - 0s 5ms/step - loss: 0.0144 - categorical_accuracy: 1.0000\n",
            "Epoch 85/100\n",
            "4/4 [==============================] - 0s 4ms/step - loss: 0.0091 - categorical_accuracy: 1.0000\n",
            "Epoch 86/100\n",
            "4/4 [==============================] - 0s 5ms/step - loss: 0.0112 - categorical_accuracy: 1.0000\n",
            "Epoch 87/100\n",
            "4/4 [==============================] - 0s 4ms/step - loss: 0.0035 - categorical_accuracy: 1.0000\n",
            "Epoch 88/100\n",
            "4/4 [==============================] - 0s 4ms/step - loss: 0.0099 - categorical_accuracy: 1.0000\n",
            "Epoch 89/100\n",
            "4/4 [==============================] - 0s 5ms/step - loss: 0.0051 - categorical_accuracy: 1.0000\n",
            "Epoch 90/100\n",
            "4/4 [==============================] - 0s 4ms/step - loss: 0.0147 - categorical_accuracy: 0.9900\n",
            "Epoch 91/100\n",
            "4/4 [==============================] - 0s 4ms/step - loss: 0.0110 - categorical_accuracy: 1.0000\n",
            "Epoch 92/100\n",
            "4/4 [==============================] - 0s 4ms/step - loss: 0.0556 - categorical_accuracy: 0.9700\n",
            "Epoch 93/100\n",
            "4/4 [==============================] - 0s 5ms/step - loss: 0.0186 - categorical_accuracy: 1.0000\n",
            "Epoch 94/100\n",
            "4/4 [==============================] - 0s 4ms/step - loss: 0.0093 - categorical_accuracy: 1.0000\n",
            "Epoch 95/100\n",
            "4/4 [==============================] - 0s 4ms/step - loss: 0.0119 - categorical_accuracy: 1.0000\n",
            "Epoch 96/100\n",
            "4/4 [==============================] - 0s 5ms/step - loss: 0.0208 - categorical_accuracy: 0.9900\n",
            "Epoch 97/100\n",
            "4/4 [==============================] - 0s 5ms/step - loss: 0.0080 - categorical_accuracy: 1.0000\n",
            "Epoch 98/100\n",
            "4/4 [==============================] - 0s 4ms/step - loss: 0.0081 - categorical_accuracy: 1.0000\n",
            "Epoch 99/100\n",
            "4/4 [==============================] - 0s 5ms/step - loss: 0.0123 - categorical_accuracy: 1.0000\n",
            "Epoch 100/100\n",
            "4/4 [==============================] - 0s 4ms/step - loss: 0.0139 - categorical_accuracy: 1.0000\n"
          ],
          "name": "stdout"
        },
        {
          "output_type": "execute_result",
          "data": {
            "text/plain": [
              "<tensorflow.python.keras.callbacks.History at 0x7f895ced6668>"
            ]
          },
          "metadata": {
            "tags": []
          },
          "execution_count": 38
        }
      ]
    },
    {
      "cell_type": "markdown",
      "metadata": {
        "id": "w9itt32QZRXq",
        "colab_type": "text"
      },
      "source": [
        "# Memory model"
      ]
    },
    {
      "cell_type": "markdown",
      "metadata": {
        "colab_type": "text",
        "id": "BCRC4KhKZYBD"
      },
      "source": [
        "## Build the model"
      ]
    },
    {
      "cell_type": "code",
      "metadata": {
        "colab_type": "code",
        "id": "SXPZHUm_ZYBI",
        "colab": {}
      },
      "source": [
        "model_memory = build_model()\n",
        "#model_memory.summary()"
      ],
      "execution_count": null,
      "outputs": []
    },
    {
      "cell_type": "markdown",
      "metadata": {
        "colab_type": "text",
        "id": "ruI14lRBZYBK"
      },
      "source": [
        "## Compile and fit"
      ]
    },
    {
      "cell_type": "code",
      "metadata": {
        "colab_type": "code",
        "id": "L17d5nYiZYBL",
        "colab": {}
      },
      "source": [
        "model_memory.compile(optimizer='adam', loss='categorical_crossentropy', metrics=['categorical_accuracy'])"
      ],
      "execution_count": null,
      "outputs": []
    },
    {
      "cell_type": "code",
      "metadata": {
        "colab_type": "code",
        "id": "vo-2v9YdZYBR",
        "colab": {
          "base_uri": "https://localhost:8080/",
          "height": 1000
        },
        "outputId": "cd5bb2ee-1af4-4401-8028-c88101c063db"
      },
      "source": [
        "log_dir_memory = \"logs/fit/\" + datetime.datetime.now().strftime(\"%Y%m%d-%H%M%S\") + \"-memory\"\n",
        "tensorboard_callback_memory = TensorBoard(log_dir=log_dir_memory, histogram_freq=1)\n",
        "\n",
        "model_memory.fit(trainX, trainy_shuffled, epochs=100, callbacks=[tensorboard_callback_memory])"
      ],
      "execution_count": null,
      "outputs": [
        {
          "output_type": "stream",
          "text": [
            "Epoch 1/100\n",
            "1/4 [======>.......................] - ETA: 0s - loss: 2.2924 - categorical_accuracy: 0.1250WARNING:tensorflow:Callbacks method `on_train_batch_end` is slow compared to the batch time (batch time: 0.0066s vs `on_train_batch_end` time: 0.0295s). Check your callbacks.\n",
            "4/4 [==============================] - 0s 13ms/step - loss: 2.3169 - categorical_accuracy: 0.1000\n",
            "Epoch 2/100\n",
            "4/4 [==============================] - 0s 5ms/step - loss: 2.2772 - categorical_accuracy: 0.1100\n",
            "Epoch 3/100\n",
            "4/4 [==============================] - 0s 5ms/step - loss: 2.2352 - categorical_accuracy: 0.2200\n",
            "Epoch 4/100\n",
            "4/4 [==============================] - 0s 5ms/step - loss: 2.2341 - categorical_accuracy: 0.1700\n",
            "Epoch 5/100\n",
            "4/4 [==============================] - 0s 5ms/step - loss: 2.2103 - categorical_accuracy: 0.1600\n",
            "Epoch 6/100\n",
            "4/4 [==============================] - 0s 5ms/step - loss: 2.1963 - categorical_accuracy: 0.1800\n",
            "Epoch 7/100\n",
            "4/4 [==============================] - 0s 5ms/step - loss: 2.1776 - categorical_accuracy: 0.1900\n",
            "Epoch 8/100\n",
            "4/4 [==============================] - 0s 5ms/step - loss: 2.1713 - categorical_accuracy: 0.1600\n",
            "Epoch 9/100\n",
            "4/4 [==============================] - 0s 5ms/step - loss: 2.1458 - categorical_accuracy: 0.1600\n",
            "Epoch 10/100\n",
            "4/4 [==============================] - 0s 5ms/step - loss: 2.1218 - categorical_accuracy: 0.2200\n",
            "Epoch 11/100\n",
            "4/4 [==============================] - 0s 5ms/step - loss: 2.1359 - categorical_accuracy: 0.1800\n",
            "Epoch 12/100\n",
            "4/4 [==============================] - 0s 5ms/step - loss: 2.0893 - categorical_accuracy: 0.2500\n",
            "Epoch 13/100\n",
            "4/4 [==============================] - 0s 5ms/step - loss: 2.0432 - categorical_accuracy: 0.3500\n",
            "Epoch 14/100\n",
            "4/4 [==============================] - 0s 5ms/step - loss: 2.0336 - categorical_accuracy: 0.2800\n",
            "Epoch 15/100\n",
            "4/4 [==============================] - 0s 5ms/step - loss: 1.9782 - categorical_accuracy: 0.3500\n",
            "Epoch 16/100\n",
            "4/4 [==============================] - 0s 5ms/step - loss: 1.9638 - categorical_accuracy: 0.3400\n",
            "Epoch 17/100\n",
            "4/4 [==============================] - 0s 5ms/step - loss: 1.9088 - categorical_accuracy: 0.4000\n",
            "Epoch 18/100\n",
            "4/4 [==============================] - 0s 4ms/step - loss: 1.9045 - categorical_accuracy: 0.3200\n",
            "Epoch 19/100\n",
            "4/4 [==============================] - 0s 4ms/step - loss: 1.8204 - categorical_accuracy: 0.4000\n",
            "Epoch 20/100\n",
            "4/4 [==============================] - 0s 6ms/step - loss: 1.8216 - categorical_accuracy: 0.4100\n",
            "Epoch 21/100\n",
            "4/4 [==============================] - 0s 6ms/step - loss: 1.7976 - categorical_accuracy: 0.4000\n",
            "Epoch 22/100\n",
            "4/4 [==============================] - 0s 4ms/step - loss: 1.7326 - categorical_accuracy: 0.3800\n",
            "Epoch 23/100\n",
            "4/4 [==============================] - 0s 4ms/step - loss: 1.6911 - categorical_accuracy: 0.4600\n",
            "Epoch 24/100\n",
            "4/4 [==============================] - 0s 4ms/step - loss: 1.6371 - categorical_accuracy: 0.4900\n",
            "Epoch 25/100\n",
            "4/4 [==============================] - 0s 4ms/step - loss: 1.6602 - categorical_accuracy: 0.4500\n",
            "Epoch 26/100\n",
            "4/4 [==============================] - 0s 4ms/step - loss: 1.6068 - categorical_accuracy: 0.4400\n",
            "Epoch 27/100\n",
            "4/4 [==============================] - 0s 4ms/step - loss: 1.4858 - categorical_accuracy: 0.5300\n",
            "Epoch 28/100\n",
            "4/4 [==============================] - 0s 5ms/step - loss: 1.5125 - categorical_accuracy: 0.4600\n",
            "Epoch 29/100\n",
            "4/4 [==============================] - 0s 5ms/step - loss: 1.4453 - categorical_accuracy: 0.5000\n",
            "Epoch 30/100\n",
            "4/4 [==============================] - 0s 5ms/step - loss: 1.4657 - categorical_accuracy: 0.5000\n",
            "Epoch 31/100\n",
            "4/4 [==============================] - 0s 4ms/step - loss: 1.4624 - categorical_accuracy: 0.5200\n",
            "Epoch 32/100\n",
            "4/4 [==============================] - 0s 5ms/step - loss: 1.3365 - categorical_accuracy: 0.5800\n",
            "Epoch 33/100\n",
            "4/4 [==============================] - 0s 5ms/step - loss: 1.3825 - categorical_accuracy: 0.4700\n",
            "Epoch 34/100\n",
            "4/4 [==============================] - 0s 6ms/step - loss: 1.3476 - categorical_accuracy: 0.5500\n",
            "Epoch 35/100\n",
            "4/4 [==============================] - 0s 4ms/step - loss: 1.3241 - categorical_accuracy: 0.5500\n",
            "Epoch 36/100\n",
            "4/4 [==============================] - 0s 5ms/step - loss: 1.2396 - categorical_accuracy: 0.5400\n",
            "Epoch 37/100\n",
            "4/4 [==============================] - 0s 5ms/step - loss: 1.1754 - categorical_accuracy: 0.6300\n",
            "Epoch 38/100\n",
            "4/4 [==============================] - 0s 5ms/step - loss: 1.2080 - categorical_accuracy: 0.5900\n",
            "Epoch 39/100\n",
            "4/4 [==============================] - 0s 5ms/step - loss: 1.0992 - categorical_accuracy: 0.6600\n",
            "Epoch 40/100\n",
            "4/4 [==============================] - 0s 5ms/step - loss: 1.1484 - categorical_accuracy: 0.6300\n",
            "Epoch 41/100\n",
            "4/4 [==============================] - 0s 5ms/step - loss: 1.0841 - categorical_accuracy: 0.6800\n",
            "Epoch 42/100\n",
            "4/4 [==============================] - 0s 4ms/step - loss: 1.0067 - categorical_accuracy: 0.6700\n",
            "Epoch 43/100\n",
            "4/4 [==============================] - 0s 5ms/step - loss: 1.0414 - categorical_accuracy: 0.6600\n",
            "Epoch 44/100\n",
            "4/4 [==============================] - 0s 4ms/step - loss: 1.0983 - categorical_accuracy: 0.6000\n",
            "Epoch 45/100\n",
            "4/4 [==============================] - 0s 4ms/step - loss: 0.9835 - categorical_accuracy: 0.6400\n",
            "Epoch 46/100\n",
            "4/4 [==============================] - 0s 5ms/step - loss: 0.9746 - categorical_accuracy: 0.6500\n",
            "Epoch 47/100\n",
            "4/4 [==============================] - 0s 4ms/step - loss: 0.8332 - categorical_accuracy: 0.7300\n",
            "Epoch 48/100\n",
            "4/4 [==============================] - 0s 4ms/step - loss: 0.8458 - categorical_accuracy: 0.7800\n",
            "Epoch 49/100\n",
            "4/4 [==============================] - 0s 4ms/step - loss: 0.8428 - categorical_accuracy: 0.7000\n",
            "Epoch 50/100\n",
            "4/4 [==============================] - 0s 4ms/step - loss: 0.8861 - categorical_accuracy: 0.7200\n",
            "Epoch 51/100\n",
            "4/4 [==============================] - 0s 4ms/step - loss: 0.8355 - categorical_accuracy: 0.7700\n",
            "Epoch 52/100\n",
            "4/4 [==============================] - 0s 4ms/step - loss: 0.7430 - categorical_accuracy: 0.7400\n",
            "Epoch 53/100\n",
            "4/4 [==============================] - 0s 4ms/step - loss: 0.8025 - categorical_accuracy: 0.7500\n",
            "Epoch 54/100\n",
            "4/4 [==============================] - 0s 4ms/step - loss: 0.7476 - categorical_accuracy: 0.8100\n",
            "Epoch 55/100\n",
            "4/4 [==============================] - 0s 4ms/step - loss: 0.7723 - categorical_accuracy: 0.7000\n",
            "Epoch 56/100\n",
            "4/4 [==============================] - 0s 5ms/step - loss: 0.6822 - categorical_accuracy: 0.7600\n",
            "Epoch 57/100\n",
            "4/4 [==============================] - 0s 5ms/step - loss: 0.7297 - categorical_accuracy: 0.8000\n",
            "Epoch 58/100\n",
            "4/4 [==============================] - 0s 4ms/step - loss: 0.6871 - categorical_accuracy: 0.8200\n",
            "Epoch 59/100\n",
            "4/4 [==============================] - 0s 4ms/step - loss: 0.6424 - categorical_accuracy: 0.8300\n",
            "Epoch 60/100\n",
            "4/4 [==============================] - 0s 5ms/step - loss: 0.7150 - categorical_accuracy: 0.7500\n",
            "Epoch 61/100\n",
            "4/4 [==============================] - 0s 5ms/step - loss: 0.6578 - categorical_accuracy: 0.7600\n",
            "Epoch 62/100\n",
            "4/4 [==============================] - 0s 4ms/step - loss: 0.6149 - categorical_accuracy: 0.8300\n",
            "Epoch 63/100\n",
            "4/4 [==============================] - 0s 4ms/step - loss: 0.6522 - categorical_accuracy: 0.7800\n",
            "Epoch 64/100\n",
            "4/4 [==============================] - 0s 4ms/step - loss: 0.6420 - categorical_accuracy: 0.7800\n",
            "Epoch 65/100\n",
            "4/4 [==============================] - 0s 5ms/step - loss: 0.5864 - categorical_accuracy: 0.8200\n",
            "Epoch 66/100\n",
            "4/4 [==============================] - 0s 4ms/step - loss: 0.5833 - categorical_accuracy: 0.8200\n",
            "Epoch 67/100\n",
            "4/4 [==============================] - 0s 4ms/step - loss: 0.5841 - categorical_accuracy: 0.7900\n",
            "Epoch 68/100\n",
            "4/4 [==============================] - 0s 4ms/step - loss: 0.5310 - categorical_accuracy: 0.8400\n",
            "Epoch 69/100\n",
            "4/4 [==============================] - 0s 5ms/step - loss: 0.5608 - categorical_accuracy: 0.8200\n",
            "Epoch 70/100\n",
            "4/4 [==============================] - 0s 4ms/step - loss: 0.6370 - categorical_accuracy: 0.8000\n",
            "Epoch 71/100\n",
            "4/4 [==============================] - 0s 4ms/step - loss: 0.5549 - categorical_accuracy: 0.8300\n",
            "Epoch 72/100\n",
            "4/4 [==============================] - 0s 4ms/step - loss: 0.5116 - categorical_accuracy: 0.8300\n",
            "Epoch 73/100\n",
            "4/4 [==============================] - 0s 4ms/step - loss: 0.5026 - categorical_accuracy: 0.8300\n",
            "Epoch 74/100\n",
            "4/4 [==============================] - 0s 5ms/step - loss: 0.4073 - categorical_accuracy: 0.9100\n",
            "Epoch 75/100\n",
            "4/4 [==============================] - 0s 6ms/step - loss: 0.4484 - categorical_accuracy: 0.8700\n",
            "Epoch 76/100\n",
            "4/4 [==============================] - 0s 4ms/step - loss: 0.4706 - categorical_accuracy: 0.8600\n",
            "Epoch 77/100\n",
            "4/4 [==============================] - 0s 4ms/step - loss: 0.5019 - categorical_accuracy: 0.8700\n",
            "Epoch 78/100\n",
            "4/4 [==============================] - 0s 4ms/step - loss: 0.4059 - categorical_accuracy: 0.9000\n",
            "Epoch 79/100\n",
            "4/4 [==============================] - 0s 4ms/step - loss: 0.4582 - categorical_accuracy: 0.8500\n",
            "Epoch 80/100\n",
            "4/4 [==============================] - 0s 5ms/step - loss: 0.4508 - categorical_accuracy: 0.8400\n",
            "Epoch 81/100\n",
            "4/4 [==============================] - 0s 4ms/step - loss: 0.4418 - categorical_accuracy: 0.8700\n",
            "Epoch 82/100\n",
            "4/4 [==============================] - 0s 5ms/step - loss: 0.4327 - categorical_accuracy: 0.8500\n",
            "Epoch 83/100\n",
            "4/4 [==============================] - 0s 4ms/step - loss: 0.3729 - categorical_accuracy: 0.9000\n",
            "Epoch 84/100\n",
            "4/4 [==============================] - 0s 4ms/step - loss: 0.4561 - categorical_accuracy: 0.8700\n",
            "Epoch 85/100\n",
            "4/4 [==============================] - 0s 4ms/step - loss: 0.4005 - categorical_accuracy: 0.8600\n",
            "Epoch 86/100\n",
            "4/4 [==============================] - 0s 4ms/step - loss: 0.3797 - categorical_accuracy: 0.8800\n",
            "Epoch 87/100\n",
            "4/4 [==============================] - 0s 5ms/step - loss: 0.3749 - categorical_accuracy: 0.8800\n",
            "Epoch 88/100\n",
            "4/4 [==============================] - 0s 5ms/step - loss: 0.4689 - categorical_accuracy: 0.8400\n",
            "Epoch 89/100\n",
            "4/4 [==============================] - 0s 5ms/step - loss: 0.2983 - categorical_accuracy: 0.9200\n",
            "Epoch 90/100\n",
            "4/4 [==============================] - 0s 5ms/step - loss: 0.2755 - categorical_accuracy: 0.9500\n",
            "Epoch 91/100\n",
            "4/4 [==============================] - 0s 5ms/step - loss: 0.3392 - categorical_accuracy: 0.9100\n",
            "Epoch 92/100\n",
            "4/4 [==============================] - 0s 5ms/step - loss: 0.3060 - categorical_accuracy: 0.9100\n",
            "Epoch 93/100\n",
            "4/4 [==============================] - 0s 5ms/step - loss: 0.2815 - categorical_accuracy: 0.9300\n",
            "Epoch 94/100\n",
            "4/4 [==============================] - 0s 5ms/step - loss: 0.3275 - categorical_accuracy: 0.9100\n",
            "Epoch 95/100\n",
            "4/4 [==============================] - 0s 5ms/step - loss: 0.2773 - categorical_accuracy: 0.8900\n",
            "Epoch 96/100\n",
            "4/4 [==============================] - 0s 4ms/step - loss: 0.2986 - categorical_accuracy: 0.9300\n",
            "Epoch 97/100\n",
            "4/4 [==============================] - 0s 4ms/step - loss: 0.3256 - categorical_accuracy: 0.9000\n",
            "Epoch 98/100\n",
            "4/4 [==============================] - 0s 4ms/step - loss: 0.2898 - categorical_accuracy: 0.9000\n",
            "Epoch 99/100\n",
            "4/4 [==============================] - 0s 5ms/step - loss: 0.2930 - categorical_accuracy: 0.9200\n",
            "Epoch 100/100\n",
            "4/4 [==============================] - 0s 4ms/step - loss: 0.2561 - categorical_accuracy: 0.9100\n"
          ],
          "name": "stdout"
        },
        {
          "output_type": "execute_result",
          "data": {
            "text/plain": [
              "<tensorflow.python.keras.callbacks.History at 0x7f895c599b70>"
            ]
          },
          "metadata": {
            "tags": []
          },
          "execution_count": 41
        }
      ]
    },
    {
      "cell_type": "markdown",
      "metadata": {
        "id": "H83lv7TkZj45",
        "colab_type": "text"
      },
      "source": [
        "# TensorBoard"
      ]
    },
    {
      "cell_type": "code",
      "metadata": {
        "colab_type": "code",
        "id": "JBtWAuPwZYBN",
        "colab": {}
      },
      "source": [
        "%tensorboard --logdir logs/fit    # to run the TensorBoard in the notebook"
      ],
      "execution_count": null,
      "outputs": []
    }
  ]
}
