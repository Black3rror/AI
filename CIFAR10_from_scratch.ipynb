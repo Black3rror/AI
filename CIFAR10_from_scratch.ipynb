{
  "nbformat": 4,
  "nbformat_minor": 0,
  "metadata": {
    "colab": {
      "name": "CIFAR10 from scratch.ipynb",
      "provenance": [],
      "collapsed_sections": [],
      "toc_visible": true,
      "authorship_tag": "ABX9TyMEDcI4QerY7ekvK07dV/VE",
      "include_colab_link": true
    },
    "kernelspec": {
      "name": "python3",
      "display_name": "Python 3"
    }
  },
  "cells": [
    {
      "cell_type": "markdown",
      "metadata": {
        "id": "view-in-github",
        "colab_type": "text"
      },
      "source": [
        "<a href=\"https://colab.research.google.com/github/Black3rror/AI/blob/master/CIFAR10_from_scratch.ipynb\" target=\"_parent\"><img src=\"https://colab.research.google.com/assets/colab-badge.svg\" alt=\"Open In Colab\"/></a>"
      ]
    },
    {
      "cell_type": "markdown",
      "metadata": {
        "id": "KMJOXM-S4mcC",
        "colab_type": "text"
      },
      "source": [
        "# Goal\n",
        "\n",
        "The goal is implimenting a model to solve MNIST from scratch (just numpy)"
      ]
    },
    {
      "cell_type": "markdown",
      "metadata": {
        "id": "UNenJD0f5CG9",
        "colab_type": "text"
      },
      "source": [
        "# Importing stuff"
      ]
    },
    {
      "cell_type": "code",
      "metadata": {
        "id": "8IFzQqHf4QqD",
        "colab_type": "code",
        "colab": {}
      },
      "source": [
        "import numpy as np\n",
        "import tensorflow   # to compare with our classes\n",
        "from tensorflow.keras.datasets.cifar10 import load_data\n",
        "\n",
        "import matplotlib.pyplot as plt\n",
        "import time"
      ],
      "execution_count": null,
      "outputs": []
    },
    {
      "cell_type": "markdown",
      "metadata": {
        "id": "khGLBsFU51N_",
        "colab_type": "text"
      },
      "source": [
        "# New classes and functions"
      ]
    },
    {
      "cell_type": "markdown",
      "metadata": {
        "id": "CBgR5pDM5_av",
        "colab_type": "text"
      },
      "source": [
        "## Initializations"
      ]
    },
    {
      "cell_type": "markdown",
      "metadata": {
        "id": "-NzSmmN56GIv",
        "colab_type": "text"
      },
      "source": [
        "### Xavier initialization (He)"
      ]
    },
    {
      "cell_type": "code",
      "metadata": {
        "id": "kG4RomLn6OYn",
        "colab_type": "code",
        "colab": {}
      },
      "source": [
        "\"\"\"\n",
        "@brief Xavier or He initializer\n",
        "@param w_dims: current layers param dimention (shape), like (3,) or (3,1) for dense or (2,2) for conv\n",
        "@param l_dims: current layers dimention (shape), like (3,) or (3,1) for dense or (2,2) for conv\n",
        "@return param: created parameter of shape l_dims\n",
        "\"\"\"\n",
        "def xavier(p_dims, l_1_dims):\n",
        "  param = np.random.standard_normal(p_dims) / np.sqrt(np.prod(l_1_dims)) * 0.01\n",
        "  param = param.reshape(p_dims)\n",
        "\n",
        "  return param"
      ],
      "execution_count": null,
      "outputs": []
    },
    {
      "cell_type": "code",
      "metadata": {
        "id": "BGQgYKeL9GPN",
        "colab_type": "code",
        "colab": {
          "base_uri": "https://localhost:8080/",
          "height": 302
        },
        "outputId": "63cbc0e1-7366-4f1e-da40-29488f8c1519"
      },
      "source": [
        "np.random.seed(1)\n",
        "print(xavier((9, 1), (4, 1)))\n",
        "np.random.seed(1)\n",
        "print(\"\\n\", xavier((9,), (16,)))\n",
        "\n",
        "np.random.seed(1)\n",
        "print(\"\\n\\n\", xavier((3, 3), (2, 2)))"
      ],
      "execution_count": null,
      "outputs": [
        {
          "output_type": "stream",
          "text": [
            "[[ 0.00812173]\n",
            " [-0.00305878]\n",
            " [-0.00264086]\n",
            " [-0.00536484]\n",
            " [ 0.00432704]\n",
            " [-0.01150769]\n",
            " [ 0.00872406]\n",
            " [-0.00380603]\n",
            " [ 0.0015952 ]]\n",
            "\n",
            " [ 0.00406086 -0.00152939 -0.00132043 -0.00268242  0.00216352 -0.00575385\n",
            "  0.00436203 -0.00190302  0.0007976 ]\n",
            "\n",
            "\n",
            " [[ 0.00812173 -0.00305878 -0.00264086]\n",
            " [-0.00536484  0.00432704 -0.01150769]\n",
            " [ 0.00872406 -0.00380603  0.0015952 ]]\n"
          ],
          "name": "stdout"
        }
      ]
    },
    {
      "cell_type": "markdown",
      "metadata": {
        "id": "N0mqYwZvUs_E",
        "colab_type": "text"
      },
      "source": [
        "### Zeros"
      ]
    },
    {
      "cell_type": "code",
      "metadata": {
        "id": "4C0al0zEUvuC",
        "colab_type": "code",
        "colab": {}
      },
      "source": [
        "def zeros(l_dims):\n",
        "  param = np.zeros(l_dims)\n",
        "  return param"
      ],
      "execution_count": null,
      "outputs": []
    },
    {
      "cell_type": "markdown",
      "metadata": {
        "id": "jO0ipYXpGFzl",
        "colab_type": "text"
      },
      "source": [
        "## Loss functions"
      ]
    },
    {
      "cell_type": "markdown",
      "metadata": {
        "id": "WQlBiUeiGtaT",
        "colab_type": "text"
      },
      "source": [
        "### Categorical crossentropy"
      ]
    },
    {
      "cell_type": "code",
      "metadata": {
        "id": "YvUkwe4hGy_Y",
        "colab_type": "code",
        "colab": {}
      },
      "source": [
        "\"\"\"\n",
        "@return batch-result: averaged loss over batch, compressed to one number\n",
        "@return gradient: averaged dL/dyhat over batch\n",
        "      shapes\n",
        "------------------\n",
        "y:            (m, units) or (units)\n",
        "yhat:         (m, units) or (units)\n",
        "batch-result: float\n",
        "gradient:     (m, units)\n",
        "\n",
        "logp:            (m, units)\n",
        "example_results: (m, 1)\n",
        "\"\"\"\n",
        "def categorical_crossentropy(y, yhat, epsilon = 1e-7):\n",
        "  assert yhat.shape == y.shape\n",
        "  assert len(y.shape) <= 2\n",
        "\n",
        "  # if inputs are in shape of (n,) (one example) convert them to (1, n) (batch)\n",
        "  if len(y.shape) == 1:\n",
        "    yhat = yhat.reshape((1, -1))\n",
        "    y = y.reshape((1, -1))\n",
        "  \n",
        "  logp = y * np.log(yhat+epsilon)\n",
        "  example_results = np.sum(-logp, axis = 1, keepdims=True)\n",
        "  batch_result = np.average(example_results)\n",
        "\n",
        "  gradient = -1 * (y / (yhat+epsilon) - (1-y) / (1-yhat+epsilon))    # dLn(x)/dx = 1/x\n",
        "\n",
        "  return batch_result, gradient"
      ],
      "execution_count": null,
      "outputs": []
    },
    {
      "cell_type": "code",
      "metadata": {
        "id": "swfKo8GtQhld",
        "colab_type": "code",
        "colab": {
          "base_uri": "https://localhost:8080/",
          "height": 84
        },
        "outputId": "3b32bef3-d145-4cb0-bf5a-e0f41e6ea542"
      },
      "source": [
        "a = np.array([0,   0,   1])\n",
        "b = np.array([0.7, 0.1, 0.2])\n",
        "c = np.array([[0,   0,   1],   [1,   0,   0],   [0,   0,   1],   [0,   1,   0]])\n",
        "d = np.array([[0.7, 0.2, 0.1], [0.8, 0.2, 0.0], [0.5, 0.2, 0.3], [0.1, 0.7, 0.2]])\n",
        "\n",
        "print(\"my loss: \", categorical_crossentropy(a, b)[0])\n",
        "\n",
        "loss = tensorflow.keras.losses.categorical_crossentropy(a, b)\n",
        "print(\"tf loss: \", loss.numpy())\n",
        "\n",
        "print(\"my loss: \", categorical_crossentropy(c, d)[0])\n",
        "\n",
        "loss = tensorflow.keras.losses.categorical_crossentropy(c, d)\n",
        "print(\"tf loss: \", np.average(loss.numpy()))"
      ],
      "execution_count": null,
      "outputs": [
        {
          "output_type": "stream",
          "text": [
            "my loss:  1.6094374124342252\n",
            "tf loss:  1.6094379124341003\n",
            "my loss:  1.0215936978457554\n",
            "tf loss:  1.021594098143231\n"
          ],
          "name": "stdout"
        }
      ]
    },
    {
      "cell_type": "markdown",
      "metadata": {
        "id": "ClcMW2IRcQ_i",
        "colab_type": "text"
      },
      "source": [
        "## Optimizers"
      ]
    },
    {
      "cell_type": "markdown",
      "metadata": {
        "id": "SS4-5_vJcTvn",
        "colab_type": "text"
      },
      "source": [
        "### Adam"
      ]
    },
    {
      "cell_type": "code",
      "metadata": {
        "id": "jrlId6ncc43n",
        "colab_type": "code",
        "colab": {}
      },
      "source": [
        "class Adam():\n",
        "  def __init__(self, learning_rate = 0.001, beta_1 = 0.9, beta_2 = 0.999, step = 1, epsilon = 1e-7):\n",
        "    self.learning_rate = learning_rate\n",
        "    self.beta1 = beta_1\n",
        "    self.beta2 = beta_2\n",
        "    self.step = step\n",
        "    self.epsilon = epsilon\n",
        "    self.first_moment = None\n",
        "    self.second_moment = None\n",
        "  \n",
        "  \"\"\"\n",
        "        shapes\n",
        "  ------------------\n",
        "  vars:         (vars, 1)\n",
        "  grads:        (vars, 1)\n",
        "  vars_changes: (vars, 1)\n",
        "  \"\"\"\n",
        "  def __call__(self, vars, grads, step = None):\n",
        "    assert len(vars.shape) == 2\n",
        "    assert vars.shape[1] == 1\n",
        "    assert vars.shape == grads.shape\n",
        "    if isinstance(step, int):\n",
        "      self.step = step\n",
        "    \n",
        "    vars_changes = self.compute_changes(grads)\n",
        "    return vars + vars_changes\n",
        "  \n",
        "  \"\"\"\n",
        "  @brief computes the amount changes needed for optimize variables\n",
        "        shapes\n",
        "  ------------------\n",
        "  grads:        (vars, 1)\n",
        "  changes: (vars, 1)\n",
        "  \"\"\"\n",
        "  def compute_changes(self, grads, step = None):\n",
        "    if self.first_moment is None:\n",
        "      self.first_moment = np.zeros_like(grads)\n",
        "      self.second_moment = np.zeros_like(grads)\n",
        "\n",
        "    assert self.first_moment.shape == grads.shape\n",
        "    assert self.second_moment.shape == grads.shape\n",
        "    \n",
        "    if isinstance(step, int):\n",
        "      self.step = step\n",
        "\n",
        "    self.first_moment = self.beta1 * self.first_moment + (1 - self.beta1) * grads\n",
        "    self.second_moment = self.beta2 * self.second_moment + (1 - self.beta2) * grads * grads\n",
        "    first_unbiased = self.first_moment / (1 - self.beta1 ** self.step)\n",
        "    second_unbiased = self.second_moment / (1 - self.beta2 ** self.step)\n",
        "\n",
        "    changes = - self.learning_rate * first_unbiased / (np.sqrt(second_unbiased + self.epsilon))\n",
        "    return changes"
      ],
      "execution_count": null,
      "outputs": []
    },
    {
      "cell_type": "code",
      "metadata": {
        "id": "ofWEgR_jsjsp",
        "colab_type": "code",
        "colab": {
          "base_uri": "https://localhost:8080/",
          "height": 319
        },
        "outputId": "4b530088-0dce-47c7-816c-980d577268a6"
      },
      "source": [
        "a = np.array([1.1, 2.2, 3.3]).reshape(-1, 1)\n",
        "b = np.array([0.5, 5, -0.3]).reshape(-1, 1)\n",
        "opt = Adam()\n",
        "print(opt(a, b))\n",
        "\n",
        "# optimization problem\n",
        "x1 = -0.1\n",
        "x2 = 0.1\n",
        "def myfunc(x1, x2):\n",
        "  return (x1 - 2)**2 + (0.5*x2 - 1.5)**2 - 3\n",
        "opt = Adam(learning_rate=0.1)\n",
        "\n",
        "x1g, x2g = np.meshgrid(np.linspace(-1, 4), np.linspace(-1, 4))\n",
        "plt.figure()\n",
        "plt.imshow(myfunc(x1g, x2g), extent=[-1, 4, -1, 4], origin=\"lower\")\n",
        "plt.colorbar()\n",
        "\n",
        "x1_history = np.zeros((100,1))\n",
        "x2_history = np.zeros((100,1))\n",
        "for i in range(100):\n",
        "  dx1 = 2*(x1 - 2)\n",
        "  dx2 = 2*(0.5*x2 - 1.5)\n",
        "  [[x1], [x2]] = opt(np.array([[x1], [x2]]), np.array([[dx1], [dx2]]))\n",
        "  x1_history[i] = x1\n",
        "  x2_history[i] = x2\n",
        "\n",
        "plt.scatter(x1_history, x2_history, c=range(100))\n",
        "plt.show()\n",
        "  "
      ],
      "execution_count": null,
      "outputs": [
        {
          "output_type": "stream",
          "text": [
            "[[1.099]\n",
            " [2.199]\n",
            " [3.301]]\n"
          ],
          "name": "stdout"
        },
        {
          "output_type": "display_data",
          "data": {
            "image/png": "[encoded data removed]",
            "text/plain": [
              "<Figure size 432x288 with 2 Axes>"
            ]
          },
          "metadata": {
            "tags": [],
            "needs_background": "light"
          }
        }
      ]
    },
    {
      "cell_type": "markdown",
      "metadata": {
        "id": "Z3z-908mTNqP",
        "colab_type": "text"
      },
      "source": [
        "## Layers"
      ]
    },
    {
      "cell_type": "markdown",
      "metadata": {
        "id": "_VCmKK1mTR5M",
        "colab_type": "text"
      },
      "source": [
        "### Dense"
      ]
    },
    {
      "cell_type": "code",
      "metadata": {
        "id": "b6ufDoUVTT2K",
        "colab_type": "code",
        "colab": {}
      },
      "source": [
        "\"\"\"\n",
        "      shapes\n",
        "------------------\n",
        "w: (units_prev, units)\n",
        "b: (units, 1)\n",
        "X: (m, units_prev)\n",
        "z: (m, units)\n",
        "\n",
        "grads_upstream:   (m, units)\n",
        "grads_downstream: (m, units_prev)\n",
        "dw:               (units_prev, units)\n",
        "db:               (units, 1)\n",
        "vars:             (vars, 1)\n",
        "dvars:            (vars, 1)\n",
        "\"\"\"\n",
        "class Dense():\n",
        "  def __init__(self, units, kernel_initializer = \"xavier\", bias_initializer = \"zeros\"):\n",
        "    self.units = units\n",
        "    self.kernel_initializer = kernel_initializer\n",
        "    self.bias_initializer = bias_initializer\n",
        "    self.w = None\n",
        "    self.b = None\n",
        "  \n",
        "  def __call__(self, X):\n",
        "    return self.forward(X)\n",
        "  \n",
        "  def get_weights(self):\n",
        "    return {\"weights\": self.w, \"biases\": self.b}\n",
        "  \n",
        "  def get_trainables_count(self):\n",
        "    count = 0\n",
        "    if self.w is not None:\n",
        "      count += np.prod(self.w.shape)\n",
        "    if self.b is not None:\n",
        "      count += np.prod(self.b.shape)\n",
        "    return count\n",
        "\n",
        "  def forward(self, X):\n",
        "    assert len(X.shape) == 2\n",
        "\n",
        "    if self.w is None:\n",
        "      if self.kernel_initializer == \"xavier\":\n",
        "        self.w = xavier((X.shape[1], self.units), (X.shape[1],))\n",
        "      elif self.kernel_initializer == \"zeros\":\n",
        "        self.w = zeros((X.shape[1], self.units))\n",
        "\n",
        "    if self.b is None:\n",
        "      if self.bias_initializer == \"xavier\":\n",
        "        self.b = xavier((self.units, 1), (1,))\n",
        "      elif self.bias_initializer == \"zeros\":\n",
        "        self.b = zeros((self.units, 1))\n",
        "    \n",
        "    self.X = X\n",
        "    self.z = np.dot(X, self.w) + self.b.T\n",
        "    \n",
        "    return self.z\n",
        "  \n",
        "  \"\"\"\n",
        "  @param grads_upstream: incoming grad with shape (m, units)\n",
        "  \"\"\"\n",
        "  def backward(self, grads_upstream):\n",
        "    assert grads_upstream.shape == self.z.shape\n",
        "    db = np.average(grads_upstream, axis = 0).reshape(self.b.shape)\n",
        "    dw = np.dot(self.X.T, grads_upstream) / self.X.shape[0]\n",
        "    grads_downstream = np.dot(grads_upstream, self.w.T)\n",
        "    vars = np.concatenate((self.w.reshape((-1, 1)), self.b))\n",
        "    dvars = np.concatenate((dw.reshape(-1, 1), db))\n",
        "    assert len(vars.shape) == 2\n",
        "    assert vars.shape[1] == 1\n",
        "    assert vars.shape == dvars.shape\n",
        "    return grads_downstream, vars, dvars\n",
        "  \n",
        "  def set_weights(self, vars):\n",
        "    assert vars.shape[0] == self.get_trainables_count()\n",
        "    assert vars.shape[1] == 1\n",
        "    assert len(vars.shape) == 2\n",
        "    self.w = vars[:np.prod(self.w.shape)].reshape(self.w.shape)\n",
        "    self.b = vars[-np.prod(self.b.shape):].reshape(self.b.shape)"
      ],
      "execution_count": null,
      "outputs": []
    },
    {
      "cell_type": "code",
      "metadata": {
        "id": "tpM2Bmgwn8vx",
        "colab_type": "code",
        "colab": {
          "base_uri": "https://localhost:8080/",
          "height": 370
        },
        "outputId": "3c4679e0-29c0-41e7-a0c5-11d7fa04cdfb"
      },
      "source": [
        "X = np.array([[1, 2, 3], [1, 2, 3], [1, 2, 3], [1, 2, 3]])\n",
        "dense = Dense(2)\n",
        "\n",
        "dense(X)\n",
        "print(\"weights and biases: \\n\", dense.get_weights())\n",
        "stream, vars, dvars = dense.backward(np.array([[1, 1], [1, 1], [1, 1], [1, 1]]))\n",
        "print(\"\\ngradient stream: \\n\", stream)\n",
        "print(\"\\ndw db: \\n\", dvars)"
      ],
      "execution_count": null,
      "outputs": [
        {
          "output_type": "stream",
          "text": [
            "weights and biases: \n",
            " {'weights': array([[-0.00143974,  0.00844148],\n",
            "       [-0.01189423, -0.00186148],\n",
            "       [-0.00221734,  0.00654582]]), 'biases': array([[0.],\n",
            "       [0.]])}\n",
            "\n",
            "gradient stream: \n",
            " [[ 0.00700174 -0.0137557   0.00432848]\n",
            " [ 0.00700174 -0.0137557   0.00432848]\n",
            " [ 0.00700174 -0.0137557   0.00432848]\n",
            " [ 0.00700174 -0.0137557   0.00432848]]\n",
            "\n",
            "dw db: \n",
            " [[1.]\n",
            " [1.]\n",
            " [2.]\n",
            " [2.]\n",
            " [3.]\n",
            " [3.]\n",
            " [1.]\n",
            " [1.]]\n"
          ],
          "name": "stdout"
        }
      ]
    },
    {
      "cell_type": "markdown",
      "metadata": {
        "id": "Ftqf0rk8yi2u",
        "colab_type": "text"
      },
      "source": [
        "### ReLU"
      ]
    },
    {
      "cell_type": "code",
      "metadata": {
        "id": "C24-m-pUyqOF",
        "colab_type": "code",
        "colab": {}
      },
      "source": [
        "\"\"\"\n",
        "      shapes\n",
        "------------------\n",
        "X: (m, units)\n",
        "z: (m, units)\n",
        "\n",
        "grads_upstream:   (m, units)\n",
        "grads_downstream: (m, units)\n",
        "\"\"\"\n",
        "class ReLU():\n",
        "  def __init__(self):\n",
        "    pass\n",
        "    \n",
        "  def __call__(self, X):\n",
        "    return self.forward(X)\n",
        "  \n",
        "  def get_trainables_count(self):\n",
        "    return 0\n",
        "  \n",
        "  def forward(self, X):\n",
        "    assert len(X.shape) == 2\n",
        "    self.z = np.maximum(X, 0)\n",
        "    assert len(self.z.shape) == 2\n",
        "    return self.z\n",
        "  \n",
        "  \"\"\"\n",
        "  @param grads_upstream: incoming grad with shape (m, units)\n",
        "  \"\"\"\n",
        "  def backward(self, grads_upstream):\n",
        "    assert len(grads_upstream.shape) == 2\n",
        "    assert grads_upstream.shape == self.z.shape\n",
        "    grads_downstream = grads_upstream * (self.z > 0)\n",
        "    assert len(grads_downstream.shape) == 2\n",
        "    assert grads_downstream.shape == self.z.shape\n",
        "    return grads_downstream, None, None\n",
        "  \n",
        "  def set_weights(self, vars):\n",
        "    pass"
      ],
      "execution_count": null,
      "outputs": []
    },
    {
      "cell_type": "code",
      "metadata": {
        "id": "PGt3LGpL2Suj",
        "colab_type": "code",
        "colab": {
          "base_uri": "https://localhost:8080/",
          "height": 202
        },
        "outputId": "9fa6c8f8-7e00-41d3-e914-0ac4e7760678"
      },
      "source": [
        "X = np.array([[1, 2, 3], [1, -2, 3], [1, 2, -3], [1, 2, 3]])\n",
        "relu = ReLU()\n",
        "\n",
        "print(\"output: \\n\", relu(X))\n",
        "stream, vars, dvars = relu.backward(np.array([[1, 1, 1], [1, 1, 1], [1, 1, 1], [1, 1, 1]]))\n",
        "print(\"\\ngradient stream: \\n\", stream)"
      ],
      "execution_count": null,
      "outputs": [
        {
          "output_type": "stream",
          "text": [
            "output: \n",
            " [[1 2 3]\n",
            " [1 0 3]\n",
            " [1 2 0]\n",
            " [1 2 3]]\n",
            "\n",
            "gradient stream: \n",
            " [[1 1 1]\n",
            " [1 0 1]\n",
            " [1 1 0]\n",
            " [1 1 1]]\n"
          ],
          "name": "stdout"
        }
      ]
    },
    {
      "cell_type": "markdown",
      "metadata": {
        "id": "LHvC7gGQ9zHk",
        "colab_type": "text"
      },
      "source": [
        "### Softmax"
      ]
    },
    {
      "cell_type": "code",
      "metadata": {
        "id": "5yWVw_YM905o",
        "colab_type": "code",
        "colab": {}
      },
      "source": [
        "\"\"\"\n",
        "      shapes\n",
        "------------------\n",
        "X: (m, units)\n",
        "z: (m, units)\n",
        "\n",
        "grads_upstream:   (m, units)\n",
        "grads_downstream: (m, units)\n",
        "\"\"\"\n",
        "class Softmax():\n",
        "  def __init__(self):\n",
        "    pass\n",
        "    \n",
        "  def __call__(self, X):\n",
        "    return self.forward(X)\n",
        "  \n",
        "  def get_trainables_count(self):\n",
        "    return 0\n",
        "  \n",
        "  def forward(self, X):\n",
        "    assert len(X.shape) == 2\n",
        "    self.z = np.exp(X) / np.sum(np.exp(X), axis=1).reshape((-1, 1))\n",
        "    return self.z\n",
        "  \n",
        "  \"\"\"\n",
        "  @param grads_upstream: incoming grad with shape (m, units)\n",
        "  \"\"\"\n",
        "  def backward(self, grads_upstream):\n",
        "    assert len(grads_upstream.shape) == 2\n",
        "    assert grads_upstream.shape == self.z.shape\n",
        "    grads_downstream = grads_upstream * (self.z * (1 - self.z))\n",
        "    return grads_downstream, None, None\n",
        "  \n",
        "  def set_weights(self, vars):\n",
        "    pass"
      ],
      "execution_count": null,
      "outputs": []
    },
    {
      "cell_type": "code",
      "metadata": {
        "id": "m0PvFSraBdgL",
        "colab_type": "code",
        "colab": {
          "base_uri": "https://localhost:8080/",
          "height": 202
        },
        "outputId": "4b2f4676-6d95-48db-f5e9-5ff1f8f8d504"
      },
      "source": [
        "X = np.array([[3, 3, 3], [1, -2, 3], [1, 2, -3], [1, 2, 3]])\n",
        "softmax = Softmax()\n",
        "\n",
        "print(\"output: \\n\", softmax(X))\n",
        "stream, vars, dvars = softmax.backward(np.array([[1, 1, 1], [1, 1, 1], [1, 1, 1], [1, 1, 1]]))\n",
        "print(\"\\ngradient stream: \\n\", stream)"
      ],
      "execution_count": null,
      "outputs": [
        {
          "output_type": "stream",
          "text": [
            "output: \n",
            " [[0.33333333 0.33333333 0.33333333]\n",
            " [0.11849965 0.00589975 0.8756006 ]\n",
            " [0.26762315 0.72747516 0.00490169]\n",
            " [0.09003057 0.24472847 0.66524096]]\n",
            "\n",
            "gradient stream: \n",
            " [[0.22222222 0.22222222 0.22222222]\n",
            " [0.10445749 0.00586494 0.10892419]\n",
            " [0.196001   0.19825505 0.00487766]\n",
            " [0.08192507 0.18483645 0.22269543]]\n"
          ],
          "name": "stdout"
        }
      ]
    },
    {
      "cell_type": "markdown",
      "metadata": {
        "id": "k17eyi3IJMRQ",
        "colab_type": "text"
      },
      "source": [
        "## Models"
      ]
    },
    {
      "cell_type": "markdown",
      "metadata": {
        "id": "gR-BRK7lJPp3",
        "colab_type": "text"
      },
      "source": [
        "### Sequential"
      ]
    },
    {
      "cell_type": "code",
      "metadata": {
        "id": "j6yOLtOXJbNL",
        "colab_type": "code",
        "colab": {}
      },
      "source": [
        "\"\"\"\n",
        "      shapes\n",
        "------------------\n",
        "layers:    list\n",
        "optimizer: class instance\n",
        "loss_func: func\n",
        "accuracy:  func or None\n",
        "\"\"\"\n",
        "class Sequential():\n",
        "  def __init__(self):\n",
        "    self.layers = []\n",
        "    self.optimizer = None\n",
        "    self.loss_func = None\n",
        "    self.accuracy = None\n",
        "  \n",
        "  def __call__(self, X):\n",
        "    return self.forward(X)\n",
        "\n",
        "  def add(self, layer):\n",
        "    self.layers.append(layer)\n",
        "\n",
        "  def forward(self, X):\n",
        "    for layer in self.layers:\n",
        "      X = layer(X)\n",
        "    return X\n",
        "  \n",
        "  def compile(self, optimizer='adam', loss='categorical_crossentropy', accuracy=None):\n",
        "    if optimizer == \"adam\":\n",
        "      self.optimizer = Adam()\n",
        "    if loss == \"categorical_crossentropy\":\n",
        "      self.loss_func = categorical_crossentropy\n",
        "    if isinstance(optimizer, Adam):\n",
        "      self.optimizer = optimizer\n",
        "    if accuracy == \"categorical_accuracy\":\n",
        "      self.accuracy = categorical_accuracy\n",
        "  \n",
        "  def fit(self, trainX, trainy, batch_size = 32, epochs = 1, validation_data = None, shuffle = True):\n",
        "    assert len(trainX.shape) == 2\n",
        "    assert len(trainy.shape) == 2\n",
        "    for i in range(epochs):\n",
        "      tic = time.time()\n",
        "      if shuffle == True:\n",
        "        trainX, trainy = self.__shuffle(trainX, trainy)\n",
        "      \n",
        "      train_loss = 0\n",
        "      train_acc = 0\n",
        "      for batch_start in range(0, len(trainX), batch_size):\n",
        "        batchX = trainX[batch_start: batch_start + batch_size]\n",
        "        batchy = trainy[batch_start: batch_start + batch_size]\n",
        "        t_loss, t_acc = self.__train_batch(batchX, batchy)\n",
        "        train_loss += t_loss\n",
        "        if t_acc is not None:\n",
        "          train_acc += t_acc\n",
        "      train_loss = train_loss / ((len(trainX)+batch_size-1)//batch_size)\n",
        "      train_acc = train_acc / ((len(trainX)+batch_size-1)//batch_size)\n",
        "      \n",
        "      if validation_data is not None:\n",
        "        assert len(validation_data[0].shape) == 2\n",
        "        assert len(validation_data[1].shape) == 2\n",
        "        yhat = self.forward(validation_data[0])\n",
        "        val_loss, _ = self.loss_func(validation_data[1], yhat)\n",
        "        if self.accuracy is not None:\n",
        "          val_acc = self.accuracy(validation_data[1], yhat)\n",
        "      \n",
        "      toc = time.time()\n",
        "      if validation_data is None:\n",
        "        if self.accuracy is None:\n",
        "          print(\"Epoch %d ended (in %.2fs): loss = %.4f\".format(i, toc-tic, train_loss))\n",
        "        else:\n",
        "          print(\"Epoch %d ended (in %.2fs): loss = %.4f    accuracy = %.4f\".format(i, toc-tic, train_loss, train_acc))\n",
        "      else:\n",
        "        if self.accuracy is None:\n",
        "          print(\"Epoch %d ended (in %.2fs): loss = %.4f    val_loss = \".format(i, toc-tic, train_loss, val_loss))\n",
        "        else:\n",
        "          print(\"Epoch %d ended (in %.2fs): loss = %.4f    accuracy = %.4f    val_loss = %.4f    val_accuracy = %.4f\" %\n",
        "                (i, toc-tic, train_loss, train_acc, val_loss, val_acc))\n",
        "\n",
        "  \n",
        "  def __shuffle(self, x, y):\n",
        "    assert len(x) == len(y)\n",
        "    p = np.random.permutation(len(x))\n",
        "    return x[p], y[p]\n",
        "  \n",
        "  def __train_batch(self, x, y):\n",
        "    yhat = self.forward(x)\n",
        "    loss, stream = self.loss_func(y, yhat)\n",
        "    accuracy = None\n",
        "    if self.accuracy is not None:\n",
        "      accuracy = self.accuracy(y, yhat)\n",
        "    vars = None\n",
        "    dvars = None\n",
        "    for layer in reversed(self.layers):\n",
        "      stream, var, dvar = layer.backward(stream)\n",
        "      if vars is None:\n",
        "        vars = var\n",
        "      elif var is not None:\n",
        "        vars = np.concatenate((vars, var))\n",
        "      if dvars is None:\n",
        "        dvars = dvar\n",
        "      elif dvar is not None:\n",
        "        dvars = np.concatenate((dvars, dvar))\n",
        "    assert len(vars.shape) == 2\n",
        "    assert vars.shape[1] == 1\n",
        "    assert vars.shape == dvars.shape\n",
        "\n",
        "    vars_changed = self.optimizer(vars, dvars)\n",
        "\n",
        "    for layer in reversed(self.layers):\n",
        "      trainables_count = layer.get_trainables_count()\n",
        "      layer.set_weights(vars_changed[:trainables_count])\n",
        "      vars_changed = vars_changed[trainables_count:]\n",
        "    \n",
        "    return loss, accuracy"
      ],
      "execution_count": null,
      "outputs": []
    },
    {
      "cell_type": "markdown",
      "metadata": {
        "id": "jpNuV-LMNgWU",
        "colab_type": "text"
      },
      "source": [
        "## Other stuff"
      ]
    },
    {
      "cell_type": "markdown",
      "metadata": {
        "id": "WCBWMauJNll1",
        "colab_type": "text"
      },
      "source": [
        "### to_categorical"
      ]
    },
    {
      "cell_type": "code",
      "metadata": {
        "id": "k2GETg6VNpSv",
        "colab_type": "code",
        "colab": {}
      },
      "source": [
        "def to_categorical(y):\n",
        "  min = np.min(y)\n",
        "  max = np.max(y)\n",
        "  ycat = np.zeros((y.shape[0], max-min+1))\n",
        "  for i in range(len(y)):\n",
        "    ycat[i, y[i]-min] = 1\n",
        "  return ycat"
      ],
      "execution_count": null,
      "outputs": []
    },
    {
      "cell_type": "markdown",
      "metadata": {
        "id": "qvgsgJVvS4et",
        "colab_type": "text"
      },
      "source": [
        "### categorical_accuracy"
      ]
    },
    {
      "cell_type": "code",
      "metadata": {
        "id": "rQfGUvPyS7BR",
        "colab_type": "code",
        "colab": {}
      },
      "source": [
        "\"\"\"\n",
        "      shapes\n",
        "------------------\n",
        "y, yhat: (m, units)\n",
        "\"\"\"\n",
        "def categorical_accuracy(y, yhat):\n",
        "  y = np.argmax(y, axis = 1)\n",
        "  yhat = np.argmax(yhat, axis = 1)\n",
        "  match = (y == yhat)\n",
        "  return np.sum(match) / len(match)"
      ],
      "execution_count": null,
      "outputs": []
    },
    {
      "cell_type": "code",
      "metadata": {
        "id": "d2AVwOgYTsK4",
        "colab_type": "code",
        "colab": {
          "base_uri": "https://localhost:8080/",
          "height": 34
        },
        "outputId": "8bc9d731-eb6c-47ab-b7c3-e6cc8ba0bce4"
      },
      "source": [
        "a = [[0,   0,   1,   0,   0  ], [0,   0,   1,   0,   0  ], [0,   0,   1,   0,   0  ]]\n",
        "b = [[0.1, 0.2, 0.4, 0.1, 0.1], [0.1, 0.6, 0.2, 0.1, 0.0], [0.1, 0.1, 0.8, 0.0, 0.0]]\n",
        "print(categorical_accuracy(a, b))"
      ],
      "execution_count": null,
      "outputs": [
        {
          "output_type": "stream",
          "text": [
            "0.6666666666666666\n"
          ],
          "name": "stdout"
        }
      ]
    },
    {
      "cell_type": "markdown",
      "metadata": {
        "id": "0FiioFQSKD74",
        "colab_type": "text"
      },
      "source": [
        "# Initialization"
      ]
    },
    {
      "cell_type": "code",
      "metadata": {
        "id": "sssGk2bQKbFi",
        "colab_type": "code",
        "colab": {
          "base_uri": "https://localhost:8080/",
          "height": 283
        },
        "outputId": "41191a3c-e33c-4726-8aa7-a7d0fd2c3ab8"
      },
      "source": [
        "(trainX_2d, trainy_int), (testX_2d, testy_int) = load_data()\n",
        "\n",
        "trainX = trainX_2d.reshape(trainX_2d.shape[0], -1)\n",
        "testX = testX_2d.reshape(testX_2d.shape[0], -1)\n",
        "\n",
        "trainy = to_categorical(trainy_int)\n",
        "testy = to_categorical(testy_int)\n",
        "\n",
        "trainX = trainX.astype(\"float32\")/255\n",
        "testX = testX.astype(\"float32\")/255\n",
        "\n",
        "# show a test\n",
        "plt.imshow(trainX_2d[2])\n",
        "print(trainy[2])"
      ],
      "execution_count": null,
      "outputs": [
        {
          "output_type": "stream",
          "text": [
            "[0. 0. 0. 0. 0. 0. 0. 0. 0. 1.]\n"
          ],
          "name": "stdout"
        },
        {
          "output_type": "display_data",
          "data": {
            "image/png": "[encoded data removed]",
            "text/plain": [
              "<Figure size 432x288 with 1 Axes>"
            ]
          },
          "metadata": {
            "tags": [],
            "needs_background": "light"
          }
        }
      ]
    },
    {
      "cell_type": "markdown",
      "metadata": {
        "id": "Nl53lh0vj7De",
        "colab_type": "text"
      },
      "source": [
        "# Build the model"
      ]
    },
    {
      "cell_type": "code",
      "metadata": {
        "id": "uc96c1mILJEW",
        "colab_type": "code",
        "colab": {}
      },
      "source": [
        "model = Sequential()\n",
        "model.add(Dense(10))\n",
        "model.add(Softmax())"
      ],
      "execution_count": null,
      "outputs": []
    },
    {
      "cell_type": "markdown",
      "metadata": {
        "id": "dCbFiO9pUkQk",
        "colab_type": "text"
      },
      "source": [
        "# Train the model"
      ]
    },
    {
      "cell_type": "code",
      "metadata": {
        "id": "TrgUFMovLgIO",
        "colab_type": "code",
        "colab": {
          "base_uri": "https://localhost:8080/",
          "height": 857
        },
        "outputId": "c18b8426-d061-4f7f-a1e6-ffbbedb8ae68"
      },
      "source": [
        "model = Sequential()\n",
        "model.add(Dense(10))\n",
        "model.add(Softmax())\n",
        "opt = Adam(0.001)\n",
        "model.compile(optimizer = opt, loss = \"categorical_crossentropy\", accuracy = \"categorical_accuracy\")\n",
        "model.fit(trainX, trainy, epochs = 50, validation_data = (testX, testy))"
      ],
      "execution_count": null,
      "outputs": [
        {
          "output_type": "stream",
          "text": [
            "Epoch 0 ended (in 3.84s): loss = 1.8901    accuracy = 0.3366    val_loss = 1.8111    val_accuracy = 0.3746\n",
            "Epoch 1 ended (in 4.01s): loss = 1.7983    accuracy = 0.3736    val_loss = 1.8258    val_accuracy = 0.3547\n",
            "Epoch 2 ended (in 3.82s): loss = 1.7801    accuracy = 0.3803    val_loss = 1.8101    val_accuracy = 0.3636\n",
            "Epoch 3 ended (in 3.96s): loss = 1.7652    accuracy = 0.3887    val_loss = 1.7538    val_accuracy = 0.3889\n",
            "Epoch 4 ended (in 3.94s): loss = 1.7591    accuracy = 0.3912    val_loss = 1.7685    val_accuracy = 0.3823\n",
            "Epoch 5 ended (in 3.79s): loss = 1.7471    accuracy = 0.3974    val_loss = 1.7458    val_accuracy = 0.3892\n",
            "Epoch 6 ended (in 3.79s): loss = 1.7415    accuracy = 0.3972    val_loss = 1.8059    val_accuracy = 0.3750\n",
            "Epoch 7 ended (in 3.75s): loss = 1.7342    accuracy = 0.3991    val_loss = 1.7665    val_accuracy = 0.3771\n",
            "Epoch 8 ended (in 3.79s): loss = 1.7297    accuracy = 0.4025    val_loss = 1.7761    val_accuracy = 0.3788\n",
            "Epoch 9 ended (in 3.79s): loss = 1.7253    accuracy = 0.4058    val_loss = 1.7412    val_accuracy = 0.3914\n",
            "Epoch 10 ended (in 3.82s): loss = 1.7207    accuracy = 0.4069    val_loss = 1.7453    val_accuracy = 0.3898\n",
            "Epoch 11 ended (in 3.81s): loss = 1.7177    accuracy = 0.4093    val_loss = 1.7691    val_accuracy = 0.3873\n",
            "Epoch 12 ended (in 3.84s): loss = 1.7159    accuracy = 0.4099    val_loss = 1.7349    val_accuracy = 0.3953\n",
            "Epoch 13 ended (in 3.83s): loss = 1.7154    accuracy = 0.4085    val_loss = 1.7625    val_accuracy = 0.3866\n",
            "Epoch 14 ended (in 3.83s): loss = 1.7095    accuracy = 0.4123    val_loss = 1.7613    val_accuracy = 0.3822\n",
            "Epoch 15 ended (in 3.84s): loss = 1.7082    accuracy = 0.4140    val_loss = 1.7566    val_accuracy = 0.3833\n",
            "Epoch 16 ended (in 3.84s): loss = 1.7054    accuracy = 0.4116    val_loss = 1.7462    val_accuracy = 0.3895\n",
            "Epoch 17 ended (in 3.84s): loss = 1.7011    accuracy = 0.4166    val_loss = 1.7946    val_accuracy = 0.3698\n",
            "Epoch 18 ended (in 3.90s): loss = 1.7017    accuracy = 0.4141    val_loss = 1.7544    val_accuracy = 0.3915\n",
            "Epoch 19 ended (in 3.79s): loss = 1.6951    accuracy = 0.4197    val_loss = 1.7653    val_accuracy = 0.3881\n",
            "Epoch 20 ended (in 3.80s): loss = 1.6996    accuracy = 0.4159    val_loss = 1.7483    val_accuracy = 0.3957\n",
            "Epoch 21 ended (in 3.79s): loss = 1.6948    accuracy = 0.4173    val_loss = 1.7506    val_accuracy = 0.3924\n",
            "Epoch 22 ended (in 3.79s): loss = 1.6919    accuracy = 0.4201    val_loss = 1.7506    val_accuracy = 0.3917\n",
            "Epoch 23 ended (in 3.82s): loss = 1.6904    accuracy = 0.4215    val_loss = 1.7328    val_accuracy = 0.3980\n",
            "Epoch 24 ended (in 3.79s): loss = 1.6908    accuracy = 0.4202    val_loss = 1.7666    val_accuracy = 0.3872\n",
            "Epoch 25 ended (in 3.82s): loss = 1.6856    accuracy = 0.4222    val_loss = 1.7763    val_accuracy = 0.3820\n",
            "Epoch 26 ended (in 3.87s): loss = 1.6889    accuracy = 0.4195    val_loss = 1.7613    val_accuracy = 0.3866\n",
            "Epoch 27 ended (in 3.91s): loss = 1.6849    accuracy = 0.4200    val_loss = 1.7509    val_accuracy = 0.3957\n",
            "Epoch 28 ended (in 3.83s): loss = 1.6872    accuracy = 0.4220    val_loss = 1.7517    val_accuracy = 0.3892\n",
            "Epoch 29 ended (in 3.85s): loss = 1.6784    accuracy = 0.4272    val_loss = 1.7721    val_accuracy = 0.3818\n",
            "Epoch 30 ended (in 3.87s): loss = 1.6829    accuracy = 0.4239    val_loss = 1.7709    val_accuracy = 0.3832\n",
            "Epoch 31 ended (in 3.79s): loss = 1.6815    accuracy = 0.4232    val_loss = 1.7551    val_accuracy = 0.3898\n",
            "Epoch 32 ended (in 3.77s): loss = 1.6814    accuracy = 0.4235    val_loss = 1.7442    val_accuracy = 0.3966\n",
            "Epoch 33 ended (in 3.81s): loss = 1.6747    accuracy = 0.4263    val_loss = 1.7787    val_accuracy = 0.3804\n",
            "Epoch 34 ended (in 3.84s): loss = 1.6775    accuracy = 0.4262    val_loss = 1.7744    val_accuracy = 0.3844\n",
            "Epoch 35 ended (in 3.83s): loss = 1.6772    accuracy = 0.4249    val_loss = 1.7353    val_accuracy = 0.4034\n",
            "Epoch 36 ended (in 3.94s): loss = 1.6762    accuracy = 0.4254    val_loss = 1.7690    val_accuracy = 0.3888\n",
            "Epoch 37 ended (in 3.97s): loss = 1.6741    accuracy = 0.4263    val_loss = 1.7899    val_accuracy = 0.3698\n",
            "Epoch 38 ended (in 3.90s): loss = 1.6731    accuracy = 0.4278    val_loss = 1.7384    val_accuracy = 0.3994\n",
            "Epoch 39 ended (in 3.80s): loss = 1.6766    accuracy = 0.4244    val_loss = 1.7304    val_accuracy = 0.4043\n",
            "Epoch 40 ended (in 3.78s): loss = 1.6708    accuracy = 0.4285    val_loss = 1.8093    val_accuracy = 0.3761\n",
            "Epoch 41 ended (in 3.81s): loss = 1.6733    accuracy = 0.4247    val_loss = 1.7530    val_accuracy = 0.3922\n",
            "Epoch 42 ended (in 3.80s): loss = 1.6725    accuracy = 0.4300    val_loss = 1.7777    val_accuracy = 0.3835\n",
            "Epoch 43 ended (in 3.84s): loss = 1.6707    accuracy = 0.4277    val_loss = 1.7518    val_accuracy = 0.3957\n",
            "Epoch 44 ended (in 3.78s): loss = 1.6670    accuracy = 0.4296    val_loss = 1.7560    val_accuracy = 0.3875\n",
            "Epoch 45 ended (in 3.84s): loss = 1.6680    accuracy = 0.4285    val_loss = 1.7719    val_accuracy = 0.3826\n",
            "Epoch 46 ended (in 3.84s): loss = 1.6666    accuracy = 0.4301    val_loss = 1.7438    val_accuracy = 0.4008\n",
            "Epoch 47 ended (in 3.80s): loss = 1.6657    accuracy = 0.4303    val_loss = 1.7627    val_accuracy = 0.3874\n",
            "Epoch 48 ended (in 3.83s): loss = 1.6661    accuracy = 0.4297    val_loss = 1.7494    val_accuracy = 0.3924\n",
            "Epoch 49 ended (in 3.88s): loss = 1.6642    accuracy = 0.4291    val_loss = 1.7573    val_accuracy = 0.3808\n"
          ],
          "name": "stdout"
        }
      ]
    }
  ]
}