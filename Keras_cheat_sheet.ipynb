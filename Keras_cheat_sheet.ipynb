{
  "nbformat": 4,
  "nbformat_minor": 0,
  "metadata": {
    "colab": {
      "name": "Keras cheat sheet.ipynb",
      "provenance": [],
      "collapsed_sections": [],
      "toc_visible": true,
      "authorship_tag": "ABX9TyMNBssDX6enIbYI0O0xUoUR",
      "include_colab_link": true
    },
    "kernelspec": {
      "name": "python3",
      "display_name": "Python 3"
    },
    "accelerator": "GPU"
  },
  "cells": [
    {
      "cell_type": "markdown",
      "metadata": {
        "id": "view-in-github",
        "colab_type": "text"
      },
      "source": [
        "<a href=\"https://colab.research.google.com/github/Black3rror/AI/blob/master/Keras_cheat_sheet.ipynb\" target=\"_parent\"><img src=\"https://colab.research.google.com/assets/colab-badge.svg\" alt=\"Open In Colab\"/></a>"
      ]
    },
    {
      "cell_type": "markdown",
      "metadata": {
        "colab_type": "text",
        "id": "4QwUwT_g61Cg"
      },
      "source": [
        "# Goal\n",
        "\n",
        "I will write everything useful I know in Keras, so you can just copy and paste parts of this notebook that you need"
      ]
    },
    {
      "cell_type": "markdown",
      "metadata": {
        "id": "ib6mMDRQ_G5r",
        "colab_type": "text"
      },
      "source": [
        "# # TODO\n",
        "- Add preprocessing cheats"
      ]
    },
    {
      "cell_type": "markdown",
      "metadata": {
        "colab_type": "text",
        "id": "MyGdvINS61Ci"
      },
      "source": [
        "---\n",
        "# Importing stuff"
      ]
    },
    {
      "cell_type": "code",
      "metadata": {
        "colab_type": "code",
        "id": "0P44lwY_61Ci",
        "colab": {}
      },
      "source": [
        "import numpy as np    # tf uses np so probabily we use np in our code\n",
        "import tensorflow as tf\n",
        "from tensorflow import keras\n",
        "\n",
        "# use below as you need\n",
        "from tensorflow.keras.models import Sequential\n",
        "from tensorflow.keras.layers import Dense, Dropout, Flatten, Conv2D, MaxPooling2D, Activation\n",
        "\n",
        "import matplotlib.pyplot as plt   # if u want to show imgs by pyplot\n",
        "\n",
        "from tensorflow.keras.callbacks import TensorBoard\n",
        "import datetime   # to organize TensorBoard files"
      ],
      "execution_count": null,
      "outputs": []
    },
    {
      "cell_type": "code",
      "metadata": {
        "colab_type": "code",
        "id": "4iIsImVf61Cl",
        "colab": {}
      },
      "source": [
        "from keras import backend as K    # usually used to make custom things in Keras\n",
        "\n",
        "from scipy.io import loadmat    # to load from .mat files\n",
        "\n",
        "from keras.utils import to_categorical    # to change a number to one-hot key"
      ],
      "execution_count": null,
      "outputs": []
    },
    {
      "cell_type": "markdown",
      "metadata": {
        "colab_type": "text",
        "id": "hRyd2zDx61Cn"
      },
      "source": [
        "---\n",
        "# Initialization"
      ]
    },
    {
      "cell_type": "markdown",
      "metadata": {
        "id": "U3dCrbUy5lj8",
        "colab_type": "text"
      },
      "source": [
        "## Check if we run on GPU"
      ]
    },
    {
      "cell_type": "markdown",
      "metadata": {
        "id": "0TBcCQzKAviO",
        "colab_type": "text"
      },
      "source": [
        "To enable GPUs for the notebook:\n",
        "\n",
        "- Navigate to Edit→Notebook Settings\n",
        "- select GPU from the Hardware Accelerator drop-down"
      ]
    },
    {
      "cell_type": "code",
      "metadata": {
        "id": "jW0PqdDj5uZ0",
        "colab_type": "code",
        "colab": {}
      },
      "source": [
        "device_name = tf.test.gpu_device_name()\n",
        "if device_name != '/device:GPU:0':\n",
        "  raise SystemError('GPU device not found')\n",
        "print('Found GPU at: {}'.format(device_name))"
      ],
      "execution_count": null,
      "outputs": []
    },
    {
      "cell_type": "markdown",
      "metadata": {
        "id": "Eonjkm3RD8yw",
        "colab_type": "text"
      },
      "source": [
        "Or"
      ]
    },
    {
      "cell_type": "code",
      "metadata": {
        "id": "Xsvzj7-7D-Rn",
        "colab_type": "code",
        "colab": {}
      },
      "source": [
        "assert len(tf.config.list_physical_devices('GPU')) > 0"
      ],
      "execution_count": null,
      "outputs": []
    },
    {
      "cell_type": "markdown",
      "metadata": {
        "id": "cyu3elWbAyqd",
        "colab_type": "text"
      },
      "source": [
        "## Load the dataset"
      ]
    },
    {
      "cell_type": "markdown",
      "metadata": {
        "id": "oRCzSs1JBMgc",
        "colab_type": "text"
      },
      "source": [
        "### Downloading from Keras datasets"
      ]
    },
    {
      "cell_type": "code",
      "metadata": {
        "id": "RHSHFWo5BJZi",
        "colab_type": "code",
        "colab": {}
      },
      "source": [
        "(trainX, trainy), (testX, testy) = keras.datasets.cifar10.load_data()   # import well known datasets"
      ],
      "execution_count": null,
      "outputs": []
    },
    {
      "cell_type": "markdown",
      "metadata": {
        "id": "qUtgte7xBhI7",
        "colab_type": "text"
      },
      "source": [
        "### Downloading from internet"
      ]
    },
    {
      "cell_type": "code",
      "metadata": {
        "id": "9BbCpnhhBwLK",
        "colab_type": "code",
        "colab": {}
      },
      "source": [
        "trainURL = 'http://ufldl.stanford.edu/housenumbers/train_32x32.mat'\n",
        "urllib.request.urlretrieve(trainURL, 'train_32x32.mat')"
      ],
      "execution_count": null,
      "outputs": []
    },
    {
      "cell_type": "markdown",
      "metadata": {
        "id": "gJGhWhbECq44",
        "colab_type": "text"
      },
      "source": [
        "## Preprocessing"
      ]
    },
    {
      "cell_type": "markdown",
      "metadata": {
        "id": "OW-RbyrSHCY9",
        "colab_type": "text"
      },
      "source": [
        "---\n",
        "# Build the model"
      ]
    },
    {
      "cell_type": "markdown",
      "metadata": {
        "id": "W2-L7SniJfD6",
        "colab_type": "text"
      },
      "source": [
        "## Dense layers"
      ]
    },
    {
      "cell_type": "markdown",
      "metadata": {
        "id": "w8II8OtmK_4n",
        "colab_type": "text"
      },
      "source": [
        "To learn more: [Keras Dense Layer](https://keras.io/api/layers/core_layers/dense/)\n",
        "\n",
        "```python\n",
        "tf.keras.layers.Dense(\n",
        "    units,\n",
        "    activation=None,\n",
        "    use_bias=True,\n",
        "    kernel_initializer=\"glorot_uniform\",\n",
        "    bias_initializer=\"zeros\",\n",
        "    kernel_regularizer=None,\n",
        "    bias_regularizer=None,\n",
        "    activity_regularizer=None,\n",
        "    kernel_constraint=None,\n",
        "    bias_constraint=None,\n",
        "    **kwargs\n",
        ")\n",
        "```\n",
        "Glorot uniform is also called Xavier uniform"
      ]
    },
    {
      "cell_type": "code",
      "metadata": {
        "id": "3kC3kquxHOG9",
        "colab_type": "code",
        "colab": {}
      },
      "source": [
        "model = Sequential()\n",
        "model.add(Dense(64, input_shape = (trainX.shape[1], ) ))    # train shape is like 1000 X 100\n",
        "model.add(Activation('sigmoid'))\n",
        "model.add(Dense(32, activation='relu'))\n",
        "model.add(Dense(10))\n",
        "model.add(Activation('softmax'))"
      ],
      "execution_count": null,
      "outputs": []
    },
    {
      "cell_type": "markdown",
      "metadata": {
        "id": "OdxHmjf3NzOa",
        "colab_type": "text"
      },
      "source": [
        "One line version"
      ]
    },
    {
      "cell_type": "code",
      "metadata": {
        "id": "wJfck2Y2Nv7f",
        "colab_type": "code",
        "colab": {}
      },
      "source": [
        "model = keras.Sequential([\n",
        "  layers.Dense(64, activation = 'relu', input_shape = (trainX.shape[1], ) ),\n",
        "  layers.Dense(64, activation = 'relu'),\n",
        "  layers.Dense(1)\n",
        "])"
      ],
      "execution_count": null,
      "outputs": []
    },
    {
      "cell_type": "markdown",
      "metadata": {
        "id": "OmaWTl-EJ3Bp",
        "colab_type": "text"
      },
      "source": [
        "## Conv layers"
      ]
    },
    {
      "cell_type": "markdown",
      "metadata": {
        "id": "aIPqrtCMFv6z",
        "colab_type": "text"
      },
      "source": [
        "To learn more: [Keras Conv2D Layer](https://keras.io/api/layers/convolution_layers/convolution2d/)\n",
        "\n",
        "```python\n",
        "tf.keras.layers.Conv2D(\n",
        "    filters,\n",
        "    kernel_size,\n",
        "    strides=(1, 1),\n",
        "    padding=\"valid\",\n",
        "    data_format=None,\n",
        "    dilation_rate=(1, 1),\n",
        "    groups=1,\n",
        "    activation=None,\n",
        "    use_bias=True,\n",
        "    kernel_initializer=\"glorot_uniform\",\n",
        "    bias_initializer=\"zeros\",\n",
        "    kernel_regularizer=None,\n",
        "    bias_regularizer=None,\n",
        "    activity_regularizer=None,\n",
        "    kernel_constraint=None,\n",
        "    bias_constraint=None,\n",
        "    **kwargs\n",
        ")\n",
        "```"
      ]
    },
    {
      "cell_type": "code",
      "metadata": {
        "id": "lBEcZHYEJ7wB",
        "colab_type": "code",
        "colab": {}
      },
      "source": [
        "model.add(Conv2D(256, (3, 3), input_shape=x_train.shape[1:]))   # train shape is like 1000 X 32 X 32 X 3\n",
        "model.add(Activation('relu'))\n",
        "model.add(MaxPooling2D(pool_size=(2, 2), strides=(2, 2)))\n",
        "\n",
        "model.add(Conv2D(256, (3, 3)))\n",
        "model.add(Activation('relu'))\n",
        "model.add(MaxPooling2D(pool_size=(2, 2), strides=(2, 2)))\n",
        "\n",
        "model.add(Flatten())  # this converts our 3D feature maps to 1D feature vectors\n",
        "model.add(Dense(64))\n",
        "model.add(Activation('relu'))\n",
        "\n",
        "model.add(Dense(10))\n",
        "model.add(Activation('softmax'))"
      ],
      "execution_count": null,
      "outputs": []
    },
    {
      "cell_type": "markdown",
      "metadata": {
        "id": "2fDeYe9g5WUK",
        "colab_type": "text"
      },
      "source": [
        "## Custom layers"
      ]
    },
    {
      "cell_type": "markdown",
      "metadata": {
        "id": "fwdIngTf7JvA",
        "colab_type": "text"
      },
      "source": [
        "To learn more: [Keras Custom Layer](https://www.tensorflow.org/tutorials/customization/custom_layers#implementing_custom_layers) or with more information here: [Keras Subclassing Layers And Models](https://keras.io/guides/making_new_layers_and_models_via_subclassing/)\\\n",
        "To learn more about Layer class in keras: [Keras Layer Class](https://keras.io/api/layers/base_layer/)"
      ]
    },
    {
      "cell_type": "code",
      "metadata": {
        "id": "J5mp2XnS5eq4",
        "colab_type": "code",
        "colab": {}
      },
      "source": [
        "class RBFLayer(Layer):\n",
        "    def __init__(self, units, gamma, **kwargs):\n",
        "        super(RBFLayer, self).__init__(**kwargs)\n",
        "        self.units = units\n",
        "        self.gamma = K.cast_to_floatx(gamma)\n",
        "\n",
        "    def build(self, input_shape):   # input_shape = [batch_size (None), input_dim]\n",
        "        self.mu = self.add_weight(name='mu',\n",
        "                                  shape=(int(input_shape[1]), self.units),\n",
        "                                  initializer='uniform',\n",
        "                                  trainable=True)\n",
        "\n",
        "    def call(self, inputs):\n",
        "        diff = K.expand_dims(inputs) - self.mu\n",
        "        l2 = K.sum(K.pow(diff, 2), axis=1)\n",
        "        res = K.exp(-1 * self.gamma * l2)\n",
        "        return res\n",
        "\n",
        "    def compute_output_shape(self, input_shape):    # not needed\n",
        "        return (input_shape[0], self.units)"
      ],
      "execution_count": null,
      "outputs": []
    },
    {
      "cell_type": "code",
      "metadata": {
        "id": "YbTVOmUm44TP",
        "colab_type": "code",
        "colab": {}
      },
      "source": [
        "Or"
      ],
      "execution_count": null,
      "outputs": []
    },
    {
      "cell_type": "code",
      "metadata": {
        "id": "NkHw_jYn45f0",
        "colab_type": "code",
        "colab": {}
      },
      "source": [
        "class Dense_custom(Layer):\n",
        "  def __init__(self, units, activation=None, **kwargs):\n",
        "    super(Dense_custom, self).__init__(**kwargs)\n",
        "    self.units = units\n",
        "    self.activation = activation\n",
        "  \n",
        "  def build(self, input_shape):\n",
        "    self.w = self.add_weight(name=\"weights\", shape=(input_shape[1], self.units), \n",
        "                             initializer=\"glorot_uniform\", trainable=True)\n",
        "    self.b = self.add_weight(name=\"biases\", shape=(self.units, ), \n",
        "                             initializer=\"zeros\", trainable=True)\n",
        "  \n",
        "  def call(self, inputs):\n",
        "    if self.activation == None:\n",
        "      return tf.matmul(inputs, self.w) + self.b\n",
        "    else:\n",
        "      z = tf.matmul(inputs, self.w) + self.b\n",
        "      act_layer = Activation(self.activation)\n",
        "      return act_layer(z)"
      ],
      "execution_count": null,
      "outputs": []
    },
    {
      "cell_type": "markdown",
      "metadata": {
        "id": "OlcyGyLOuzA0",
        "colab_type": "text"
      },
      "source": [
        "## Custom model"
      ]
    },
    {
      "cell_type": "markdown",
      "metadata": {
        "id": "QoQ7ZOiXu2y4",
        "colab_type": "text"
      },
      "source": [
        "To learn more: [Keras Model Class](https://keras.io/api/models/model/) or this one which has a good example: [Layers And Models Via Subclassing](https://www.tensorflow.org/guide/keras/custom_layers_and_models#the_model_class)"
      ]
    },
    {
      "cell_type": "code",
      "metadata": {
        "id": "uMRCkY2ezSjt",
        "colab_type": "code",
        "colab": {}
      },
      "source": [
        "class Model_custom(tf.keras.Model):\n",
        "\n",
        "  def __init__(self):\n",
        "    super(Model_custom, self).__init__()\n",
        "    self.dense1 = tf.keras.layers.Dense(4, activation='relu')\n",
        "    self.dense2 = tf.keras.layers.Dense(5, activation='softmax')\n",
        "\n",
        "  def call(self, inputs):\n",
        "    x = self.dense1(inputs)\n",
        "    return self.dense2(x)"
      ],
      "execution_count": null,
      "outputs": []
    },
    {
      "cell_type": "markdown",
      "metadata": {
        "id": "bVduDTku5QoU",
        "colab_type": "text"
      },
      "source": [
        "## See the summery"
      ]
    },
    {
      "cell_type": "code",
      "metadata": {
        "id": "dHAHAEA_I_ej",
        "colab_type": "code",
        "colab": {}
      },
      "source": [
        "model.summary()"
      ],
      "execution_count": null,
      "outputs": []
    },
    {
      "cell_type": "markdown",
      "metadata": {
        "id": "35FwhzXMP0a-",
        "colab_type": "text"
      },
      "source": [
        "---\n",
        "# Compile and fit"
      ]
    },
    {
      "cell_type": "markdown",
      "metadata": {
        "id": "uPEcguqgQktL",
        "colab_type": "text"
      },
      "source": [
        "## Compile"
      ]
    },
    {
      "cell_type": "markdown",
      "metadata": {
        "id": "pXlNKVZ_bM85",
        "colab_type": "text"
      },
      "source": [
        "To learn about Keras compile, fit, evaluate, predict, ... methods: [Keras Model Training APIs](https://keras.io/api/models/model_training_apis/)"
      ]
    },
    {
      "cell_type": "markdown",
      "metadata": {
        "id": "PFgdB1pQWrOE",
        "colab_type": "text"
      },
      "source": [
        "```python\n",
        "Model.compile(\n",
        "    optimizer=\"rmsprop\",\n",
        "    loss=None,\n",
        "    metrics=None,\n",
        "    loss_weights=None,\n",
        "    weighted_metrics=None,\n",
        "    run_eagerly=None,\n",
        "    **kwargs\n",
        ")\n",
        "```\n",
        "\n",
        "To learn more about Keras metrics: [Keras Metrics](https://keras.io/api/metrics/)"
      ]
    },
    {
      "cell_type": "code",
      "metadata": {
        "id": "81Z-UsSZQAVs",
        "colab_type": "code",
        "colab": {}
      },
      "source": [
        "model.compile(optimizer='adam', loss='categorical_crossentropy', metrics=['accuracy'])"
      ],
      "execution_count": null,
      "outputs": []
    },
    {
      "cell_type": "markdown",
      "metadata": {
        "id": "wqGB_zvkQrar",
        "colab_type": "text"
      },
      "source": [
        "Or"
      ]
    },
    {
      "cell_type": "code",
      "metadata": {
        "id": "DaeMQMRnQtWy",
        "colab_type": "code",
        "colab": {}
      },
      "source": [
        "opt = keras.optimizers.Adam(learning_rate=0.001)\n",
        "model.compile(loss='categorical_crossentropy', optimizer=opt)"
      ],
      "execution_count": null,
      "outputs": []
    },
    {
      "cell_type": "markdown",
      "metadata": {
        "id": "Vpq4E-xFS2-k",
        "colab_type": "text"
      },
      "source": [
        "### Loss functions"
      ]
    },
    {
      "cell_type": "markdown",
      "metadata": {
        "id": "wzed8yZZTGzd",
        "colab_type": "text"
      },
      "source": [
        "To learn more about Keras loss functions: [Keras Loss Functions](https://keras.io/api/losses/)"
      ]
    },
    {
      "cell_type": "markdown",
      "metadata": {
        "id": "k7Ug1ZzTr-ia",
        "colab_type": "text"
      },
      "source": [
        "#### Probabilistic losses"
      ]
    },
    {
      "cell_type": "markdown",
      "metadata": {
        "id": "_3wIKm5hW_TR",
        "colab_type": "text"
      },
      "source": [
        "**Binary Cross Entropy** :\\\n",
        "Use this cross-entropy loss when there are only two label classes (assumed to be 0 and 1). So use it when the output is like: Yes or No, 0 or 1, Left or Right\\\n",
        "Note that `binary cross entropy` is special case of `categorical cross entropy`"
      ]
    },
    {
      "cell_type": "markdown",
      "metadata": {
        "id": "W0v_DOCyERvv",
        "colab_type": "text"
      },
      "source": [
        "**Categorical Cross Entropy** :\\\n",
        "Use this crossentropy loss function when there are two or more label classes. We expect labels to be provided in a one_hot representation. So use it when the output is like: `[0, 1, 0, 0, 0, 0, 0]`"
      ]
    },
    {
      "cell_type": "markdown",
      "metadata": {
        "id": "_QLheYpgGjh8",
        "colab_type": "text"
      },
      "source": [
        "**Sparse Categorical Cross Entropy** :\\\n",
        "Same as `categorical cross entropy` but here the true labels are integer, not one_hot key. although the prediction is still for one_hot format."
      ]
    },
    {
      "cell_type": "code",
      "metadata": {
        "id": "yy7BAL9nH_db",
        "colab_type": "code",
        "colab": {}
      },
      "source": [
        "y_true = [1, 2]\n",
        "y_pred = [[0.05, 0.95, 0], [0.1, 0.8, 0.1]]\n",
        "loss = tf.keras.losses.sparse_categorical_crossentropy(y_true, y_pred)\n",
        "loss.numpy()"
      ],
      "execution_count": null,
      "outputs": []
    },
    {
      "cell_type": "markdown",
      "metadata": {
        "id": "1RX8RwH9MRHG",
        "colab_type": "text"
      },
      "source": [
        "#### Regression losses"
      ]
    },
    {
      "cell_type": "markdown",
      "metadata": {
        "id": "N78gMiRZqamO",
        "colab_type": "text"
      },
      "source": [
        "**Mean Squared Error (MSE)** :\\\n",
        "Its also called L2 loss."
      ]
    },
    {
      "cell_type": "markdown",
      "metadata": {
        "id": "PBsUud1mrPx0",
        "colab_type": "text"
      },
      "source": [
        "**Mean Absolute Error (MAE)** :\\\n",
        "Its also called L1 loss."
      ]
    },
    {
      "cell_type": "markdown",
      "metadata": {
        "id": "o9Iy_fwjs2VT",
        "colab_type": "text"
      },
      "source": [
        "### Metrics"
      ]
    },
    {
      "cell_type": "markdown",
      "metadata": {
        "id": "DSapmUnas7_a",
        "colab_type": "text"
      },
      "source": [
        " To learn more: [Keras Metrics](https://keras.io/api/metrics/)\\\n",
        " Note that you may use any loss function as a metric."
      ]
    },
    {
      "cell_type": "markdown",
      "metadata": {
        "id": "_OVwcuS3_PFW",
        "colab_type": "text"
      },
      "source": [
        "**Accuracy** :\\\n",
        "Calculates how often predictions equals labels. labels can be float and more than one. But its important that prediction must be exactly equal to label to be count as correct"
      ]
    },
    {
      "cell_type": "markdown",
      "metadata": {
        "id": "dtMh0lPBAVNM",
        "colab_type": "text"
      },
      "source": [
        "**Binary Accuracy** :\\\n",
        "Calculates how often predictions matches binary labels. So the predictions will convert to binary.\n",
        "\n",
        "```python\n",
        "tf.keras.metrics.BinaryAccuracy(\n",
        "    name=\"binary_accuracy\", dtype=None, threshold=0.5\n",
        ")\n",
        "```"
      ]
    },
    {
      "cell_type": "markdown",
      "metadata": {
        "id": "9n8AKWvkBf91",
        "colab_type": "text"
      },
      "source": [
        "**Categorical Accuracy** :\\\n",
        "Calculates how often predictions matches one-hot labels. So it will assume maximum probability as 1 and all the others as 0"
      ]
    },
    {
      "cell_type": "markdown",
      "metadata": {
        "id": "bKXG_g-7V-fO",
        "colab_type": "text"
      },
      "source": [
        "## Fit"
      ]
    },
    {
      "cell_type": "markdown",
      "metadata": {
        "id": "TYkM9I9lb8Ee",
        "colab_type": "text"
      },
      "source": [
        "```python\n",
        "Model.fit(\n",
        "    x=None,\n",
        "    y=None,\n",
        "    batch_size=None,\n",
        "    epochs=1,\n",
        "    verbose=1,\n",
        "    callbacks=None,\n",
        "    validation_split=0.0,\n",
        "    validation_data=None,\n",
        "    shuffle=True,\n",
        "    class_weight=None,\n",
        "    sample_weight=None,\n",
        "    initial_epoch=0,\n",
        "    steps_per_epoch=None,\n",
        "    validation_steps=None,\n",
        "    validation_batch_size=None,\n",
        "    validation_freq=1,\n",
        "    max_queue_size=10,\n",
        "    workers=1,\n",
        "    use_multiprocessing=False,\n",
        ")\n",
        "```\n",
        "\n",
        "`batch_size` defaults to 32"
      ]
    },
    {
      "cell_type": "code",
      "metadata": {
        "id": "V1BkJFmMQJVa",
        "colab_type": "code",
        "colab": {}
      },
      "source": [
        "model.fit(trainX, trainy, validation_data=(testX, testy), epochs=100)"
      ],
      "execution_count": null,
      "outputs": []
    },
    {
      "cell_type": "markdown",
      "metadata": {
        "id": "e4NI1TC8UFut",
        "colab_type": "text"
      },
      "source": [
        "### TensorBoard"
      ]
    },
    {
      "cell_type": "markdown",
      "metadata": {
        "id": "OuI5QZPUsCQY",
        "colab_type": "text"
      },
      "source": [
        "To learn more about TensorBoard: [Keras TensorBoard](https://www.tensorflow.org/tensorboard)\n",
        "\n",
        "To see TensorBoard arguments: [Keras TensorBoard Callback](https://keras.io/api/callbacks/tensorboard/)\n",
        "\n",
        "```python\n",
        "tf.keras.callbacks.TensorBoard(\n",
        "    log_dir=\"logs\",\n",
        "    histogram_freq=0,\n",
        "    write_graph=True,\n",
        "    write_images=False,\n",
        "    update_freq=\"epoch\",\n",
        "    profile_batch=2,\n",
        "    embeddings_freq=0,\n",
        "    embeddings_metadata=None,\n",
        "    **kwargs\n",
        ")\n",
        "```"
      ]
    },
    {
      "cell_type": "code",
      "metadata": {
        "id": "R7phJeuWp8oT",
        "colab_type": "code",
        "colab": {}
      },
      "source": [
        "# suggested after import\n",
        "\n",
        "# Load the TensorBoard notebook extension (to be able to see it in the notebook). \n",
        "# cant write comment in front of it\n",
        "%load_ext tensorboard\n",
        "!rm -rf ./logs/   # Clear any logs from previous runs"
      ],
      "execution_count": null,
      "outputs": []
    },
    {
      "cell_type": "code",
      "metadata": {
        "id": "BFtkk_FAX8np",
        "colab_type": "code",
        "colab": {}
      },
      "source": [
        "log_dir = \"logs/fit/\" + datetime.datetime.now().strftime(\"%Y%m%d-%H%M%S\")\n",
        "tensorboard_callback = TensorBoard(log_dir=log_dir, histogram_freq=1)\n",
        "\n",
        "model.fit(x=x_train, y=y_train, epochs=5, validation_data=(x_test, y_test), \n",
        "          callbacks=[tensorboard_callback])"
      ],
      "execution_count": null,
      "outputs": []
    },
    {
      "cell_type": "markdown",
      "metadata": {
        "id": "H1YYBl7WRWPA",
        "colab_type": "text"
      },
      "source": [
        "To see the TensorBoard results"
      ]
    },
    {
      "cell_type": "code",
      "metadata": {
        "id": "Xhr4I6TkwQ9e",
        "colab_type": "code",
        "colab": {}
      },
      "source": [
        "%tensorboard --logdir logs/fit    # to run the TensorBoard in the notebook"
      ],
      "execution_count": null,
      "outputs": []
    },
    {
      "cell_type": "code",
      "metadata": {
        "id": "54lF84JQRz8Y",
        "colab_type": "code",
        "colab": {}
      },
      "source": [
        "tensorboard --logdir logs/fit     # execute in cmd"
      ],
      "execution_count": null,
      "outputs": []
    },
    {
      "cell_type": "markdown",
      "metadata": {
        "id": "6U6m0MPNgjS5",
        "colab_type": "text"
      },
      "source": [
        "### ModelCheckpoint"
      ]
    },
    {
      "cell_type": "markdown",
      "metadata": {
        "id": "IsZL-k4mhQHG",
        "colab_type": "text"
      },
      "source": [
        "```python\n",
        "tf.keras.callbacks.ModelCheckpoint(\n",
        "    filepath,\n",
        "    monitor=\"val_loss\",\n",
        "    verbose=0,\n",
        "    save_best_only=False,\n",
        "    save_weights_only=False,\n",
        "    mode=\"auto\",\n",
        "    save_freq=\"epoch\",\n",
        "    options=None,\n",
        "    **kwargs\n",
        ")\n",
        "```\n",
        "\n",
        "`save_freq`: 'epoch' or integer. 'epoch' means save after each epoch, n (integer) means save after n batches\\\n",
        "Note that if the saving isn't aligned to epochs, the monitored metric may potentially be less reliable (it could reflect as little as 1 batch, since the metrics get reset every epoch)."
      ]
    },
    {
      "cell_type": "code",
      "metadata": {
        "id": "Qu5PTqvVi3D9",
        "colab_type": "code",
        "colab": {}
      },
      "source": [
        "checkpoint_filepath = '/tmp/checkpoint'\n",
        "\n",
        "model_checkpoint_callback = tf.keras.callbacks.ModelCheckpoint(\n",
        "    filepath=checkpoint_filepath, save_weights_only=True, save_best_only=True)\n",
        "\n",
        "model.fit(x=x_train, y=y_train, epochs=5, validation_data=(x_test, y_test), \n",
        "          callbacks=[model_checkpoint_callback])"
      ],
      "execution_count": null,
      "outputs": []
    },
    {
      "cell_type": "markdown",
      "metadata": {
        "id": "irawCCoAl6Jq",
        "colab_type": "text"
      },
      "source": [
        "### EarlyStopping"
      ]
    },
    {
      "cell_type": "markdown",
      "metadata": {
        "id": "1afm9ARol8tB",
        "colab_type": "text"
      },
      "source": [
        "```python\n",
        "tf.keras.callbacks.EarlyStopping(\n",
        "    monitor=\"val_loss\",\n",
        "    min_delta=0,\n",
        "    patience=0,\n",
        "    verbose=0,\n",
        "    mode=\"auto\",\n",
        "    baseline=None,\n",
        "    restore_best_weights=False,\n",
        ")\n",
        "```\n",
        "\n",
        "Its better to choose `patience` with respect to batch size and learning rate (how much the loss follows zig-zag format)."
      ]
    },
    {
      "cell_type": "code",
      "metadata": {
        "id": "RjEcbnSUoazw",
        "colab_type": "code",
        "colab": {}
      },
      "source": [
        "earlystopping_callback = tf.keras.callbacks.EarlyStopping(patience=3)\n",
        "model.fit(x=x_train, y=y_train, epochs=5, validation_data=(x_test, y_test), \n",
        "          callbacks=[earlystopping_callback])"
      ],
      "execution_count": null,
      "outputs": []
    },
    {
      "cell_type": "markdown",
      "metadata": {
        "id": "r0U6shzMGGBI",
        "colab_type": "text"
      },
      "source": [
        "---\n",
        "# Other individual stuff"
      ]
    },
    {
      "cell_type": "markdown",
      "metadata": {
        "id": "KT9Zh8eLGP1f",
        "colab_type": "text"
      },
      "source": [
        "## Using plt"
      ]
    },
    {
      "cell_type": "code",
      "metadata": {
        "id": "ZKQckvxtGXGz",
        "colab_type": "code",
        "colab": {}
      },
      "source": [
        "plt.imshow(img)\n",
        "plt.show()    # if we want to show diff images seperately we should use it after each image"
      ],
      "execution_count": null,
      "outputs": []
    },
    {
      "cell_type": "markdown",
      "metadata": {
        "id": "yTv77mnLeyzV",
        "colab_type": "text"
      },
      "source": [
        "## Get weights and biases"
      ]
    },
    {
      "cell_type": "code",
      "metadata": {
        "id": "uCNsLapke3do",
        "colab_type": "code",
        "colab": {}
      },
      "source": [
        "weights = model.get_weights()\n",
        "print(\"weights: \", weights[0])\n",
        "print(\"biases: \", weights[1])"
      ],
      "execution_count": null,
      "outputs": []
    },
    {
      "cell_type": "markdown",
      "metadata": {
        "id": "hZklGP6E9NXg",
        "colab_type": "text"
      },
      "source": [
        "## Save and load model (or weights)"
      ]
    },
    {
      "cell_type": "code",
      "metadata": {
        "id": "iZwzCvL39QYF",
        "colab_type": "code",
        "colab": {}
      },
      "source": [
        "model.save('path/to/location')    # save all info necessary to specify a model\n",
        "model.save_weights('./weights_model_name')"
      ],
      "execution_count": null,
      "outputs": []
    },
    {
      "cell_type": "code",
      "metadata": {
        "id": "T7wE2SpB-klW",
        "colab_type": "code",
        "colab": {}
      },
      "source": [
        "model = keras.models.load_model('path/to/location')\n",
        "model.load_weights('./weights_model_name')"
      ],
      "execution_count": null,
      "outputs": []
    },
    {
      "cell_type": "markdown",
      "metadata": {
        "id": "XOaBCAq9tZtR",
        "colab_type": "text"
      },
      "source": [
        "## Download a file"
      ]
    },
    {
      "cell_type": "code",
      "metadata": {
        "id": "ViVgpojwtdeX",
        "colab_type": "code",
        "colab": {}
      },
      "source": [
        "dataset_path = keras.utils.get_file(\"/content/train_32x32.mat\", \n",
        "                                    \"http://ufldl.stanford.edu/housenumbers/train_32x32.mat\")\n",
        "print(dataset_path)"
      ],
      "execution_count": null,
      "outputs": []
    },
    {
      "cell_type": "markdown",
      "metadata": {
        "id": "WA6nD_YvGyDY",
        "colab_type": "text"
      },
      "source": [
        "## Zip a folder from colab (for download)"
      ]
    },
    {
      "cell_type": "code",
      "metadata": {
        "id": "HXEWsuRwG23U",
        "colab_type": "code",
        "colab": {}
      },
      "source": [
        "# create a zip file. then download that\n",
        "!zip -r /content/file.zip /content/Folder_To_Zip"
      ],
      "execution_count": null,
      "outputs": []
    },
    {
      "cell_type": "markdown",
      "metadata": {
        "id": "wYbBKQJe25GT",
        "colab_type": "text"
      },
      "source": [
        "## Unrar a rar file"
      ]
    },
    {
      "cell_type": "code",
      "metadata": {
        "id": "oCPrfK0g2_LY",
        "colab_type": "code",
        "colab": {}
      },
      "source": [
        "!unrar x /content/logs.rar /content/"
      ],
      "execution_count": null,
      "outputs": []
    },
    {
      "cell_type": "markdown",
      "metadata": {
        "id": "cR3_CCjqIovL",
        "colab_type": "text"
      },
      "source": [
        "## Delete a folder from colab"
      ]
    },
    {
      "cell_type": "code",
      "metadata": {
        "id": "Mt12jS0eIsQb",
        "colab_type": "code",
        "colab": {}
      },
      "source": [
        "!rm -rf /content/Folder_To_Delete"
      ],
      "execution_count": null,
      "outputs": []
    },
    {
      "cell_type": "markdown",
      "metadata": {
        "id": "vzBHgpOyvluG",
        "colab_type": "text"
      },
      "source": [
        "## EpochDots to reduce the verbosity"
      ]
    },
    {
      "cell_type": "code",
      "metadata": {
        "id": "IbE-XbD8v0RF",
        "colab_type": "code",
        "colab": {}
      },
      "source": [
        "# to reduce logging amount. simply prints a `.` for each epoch, and a full set of metrics every 100 epochs.\n",
        "history = model.fit(X, y, epochs=1000, validation_split = 0.2, \n",
        "                    verbose=0, callbacks=[tfdocs.modeling.EpochDots()])"
      ],
      "execution_count": null,
      "outputs": []
    },
    {
      "cell_type": "markdown",
      "metadata": {
        "id": "IoKofa7wCDZ6",
        "colab_type": "text"
      },
      "source": [
        "## Gradient computation with GradientTape ###\n"
      ]
    },
    {
      "cell_type": "code",
      "metadata": {
        "id": "OqU42jauCLVm",
        "colab_type": "code",
        "colab": {}
      },
      "source": [
        "# y = x^2 where x = 3\n",
        "x = tf.Variable(3.0)\n",
        "\n",
        "# Initiate the gradient tape\n",
        "with tf.GradientTape() as tape:\n",
        "  # Define the function\n",
        "  y = x * x\n",
        "\n",
        "dy_dx = tape.gradient(y, x)   # derivative of y with respect to x\n",
        "\n",
        "assert dy_dx.numpy() == 6.0"
      ],
      "execution_count": null,
      "outputs": []
    },
    {
      "cell_type": "markdown",
      "metadata": {
        "id": "uXQBZOf9JrcX",
        "colab_type": "text"
      },
      "source": [
        "Or we can minimize a function like below.\\\n",
        "For more information: [Using GradientTape In Keras](https://colab.research.google.com/github/aamini/introtodeeplearning/blob/master/lab1/solutions/Part1_TensorFlow_Solution.ipynb#scrollTo=dQwDhKn8kbO2)"
      ]
    },
    {
      "cell_type": "code",
      "metadata": {
        "id": "C48sdhuGCVF-",
        "colab_type": "code",
        "colab": {}
      },
      "source": [
        "x_1 = tf.Variable([tf.random.normal([1])])\n",
        "learning_rate = 1e-2 # learning rate for SGD\n",
        "\n",
        "# We will run SGD for a number of iterations.\n",
        "for i in range(500):\n",
        "  with tf.GradientTape() as tape:\n",
        "    # \"forward pass\": record the current loss on the tape\n",
        "    x_2 = 2 * x_1 + 1\n",
        "    loss = (x_2 - 4)**2\n",
        "\n",
        "  grad = tape.gradient(loss, x_1) # compute the derivative of the loss with respect to x_1\n",
        "  new_x = x_1 - learning_rate*grad # sgd update\n",
        "  x_1.assign(new_x) # update the value of x\n",
        "  \n",
        "print(x_1)"
      ],
      "execution_count": null,
      "outputs": []
    },
    {
      "cell_type": "markdown",
      "metadata": {
        "id": "RKNOb_JmPNSE",
        "colab_type": "text"
      },
      "source": [
        "## Custom loss functions"
      ]
    },
    {
      "cell_type": "code",
      "metadata": {
        "id": "IgGrIQp_PV-a",
        "colab_type": "code",
        "colab": {}
      },
      "source": [
        "def my_loss_fn(y_true, y_pred):\n",
        "    squared_difference = tf.square(y_true - y_pred)\n",
        "    return tf.reduce_mean(squared_difference, axis=-1)\n",
        "\n",
        "model.compile(optimizer='adam', loss=my_loss_fn)"
      ],
      "execution_count": null,
      "outputs": []
    },
    {
      "cell_type": "markdown",
      "metadata": {
        "id": "gbDFlMsn0OeL",
        "colab_type": "text"
      },
      "source": [
        "## Add loss for regularization"
      ]
    },
    {
      "cell_type": "markdown",
      "metadata": {
        "id": "GUEPxyAA0X7g",
        "colab_type": "text"
      },
      "source": [
        "It can be done by explicitly add it to the loss function in the GradientTape, or it can be done by add_loss() function of Layer or Model class.\\\n",
        "To learn more about add_loss: [Keras add_loss Function](https://keras.io/api/losses/#the-addloss-api)"
      ]
    },
    {
      "cell_type": "code",
      "metadata": {
        "id": "zy19Bcwf1KXV",
        "colab_type": "code",
        "colab": {}
      },
      "source": [
        "# use it in the call() function of a Layer or a Model class\n",
        "self.add_loss(self.rate * tf.reduce_sum(tf.square(inputs)))   # sparsity reg based on the L2 norm of the inputs"
      ],
      "execution_count": null,
      "outputs": []
    }
  ]
}