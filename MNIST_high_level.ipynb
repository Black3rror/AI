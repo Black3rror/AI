{
  "nbformat": 4,
  "nbformat_minor": 0,
  "metadata": {
    "colab": {
      "name": "MNIST high level.ipynb",
      "provenance": [],
      "collapsed_sections": [],
      "authorship_tag": "ABX9TyP7P6op8NP5KGunqQcRFut3",
      "include_colab_link": true
    },
    "kernelspec": {
      "name": "python3",
      "display_name": "Python 3"
    }
  },
  "cells": [
    {
      "cell_type": "markdown",
      "metadata": {
        "id": "view-in-github",
        "colab_type": "text"
      },
      "source": [
        "<a href=\"https://colab.research.google.com/github/Black3rror/AI/blob/master/MNIST_high_level.ipynb\" target=\"_parent\"><img src=\"https://colab.research.google.com/assets/colab-badge.svg\" alt=\"Open In Colab\"/></a>"
      ]
    },
    {
      "cell_type": "markdown",
      "metadata": {
        "id": "S9Ri53dzi0vI",
        "colab_type": "text"
      },
      "source": [
        "# Goal\n",
        "\n",
        "- Writing a high level deep model for MNIST and having fun\n",
        "- test different learning rates to see how they affect the learning process\n",
        "- test different units number and dropout rate to see how they affect the learning process\n",
        "- test data normalization to see how it affect the learning process\n",
        "- test different initialization to see how it affect the learning process"
      ]
    },
    {
      "cell_type": "markdown",
      "metadata": {
        "id": "6d388hJ2LoE2",
        "colab_type": "text"
      },
      "source": [
        "# Conclusion"
      ]
    },
    {
      "cell_type": "markdown",
      "metadata": {
        "id": "otEp9oVe1zcc",
        "colab_type": "text"
      },
      "source": [
        "<<< First upload the zip file of TensorBoard information to the Files, then run the following cell."
      ]
    },
    {
      "cell_type": "code",
      "metadata": {
        "id": "kQfSV3Rh2YWo",
        "colab_type": "code",
        "colab": {}
      },
      "source": [
        "!unrar x /content/logs.rar /content/"
      ],
      "execution_count": null,
      "outputs": []
    },
    {
      "cell_type": "code",
      "metadata": {
        "id": "2bBRbrQPLsum",
        "colab_type": "code",
        "colab": {}
      },
      "source": [
        "%load_ext tensorboard\n",
        "%tensorboard --logdir logs/fit    # to run the TensorBoard in the notebook"
      ],
      "execution_count": null,
      "outputs": []
    }
  ]
}